{
 "cells": [
  {
   "cell_type": "markdown",
   "id": "conscious-headline",
   "metadata": {},
   "source": [
    "## Süddeutsche Zeitung\n",
    "#### Code for scraping Der Süddeutsche Zeitung \n",
    "- https://www.sueddeutsche.de"
   ]
  },
  {
   "cell_type": "code",
   "execution_count": 24,
   "id": "otherwise-knight",
   "metadata": {},
   "outputs": [],
   "source": [
    "# Import necessary libraries\n",
    "import requests\n",
    "import urllib\n",
    "import pandas as pd\n",
    "from bs4 import BeautifulSoup\n",
    "import nltk"
   ]
  },
  {
   "cell_type": "markdown",
   "id": "entire-leave",
   "metadata": {},
   "source": [
    "This site kindly uses a regular search string and allows you to search for a date range, so I scraped links from\n",
    "the search page (50 per page) and then wrote a loop to scrape the text from each of those urls."
   ]
  },
  {
   "cell_type": "code",
   "execution_count": 3,
   "id": "strong-harvest",
   "metadata": {},
   "outputs": [
    {
     "data": {
      "text/plain": [
       "20"
      ]
     },
     "execution_count": 3,
     "metadata": {},
     "output_type": "execute_result"
    }
   ],
   "source": [
    "# Search term (\"Flüchtling\") and date range\n",
    "search = '?search=Fl%C3%BCchtling&sort=date&all%5B%5D=dep&all%5B%5D=typ&all%5B%5D=sys&time=2021-03-16T00%3A00%2F2021-03-16T23%3A59&startDate=01.01.2015&endDate=31.12.2015'\n",
    "# Site's base url\n",
    "base_url = 'https://www.sueddeutsche.de/news/page/'\n",
    "# results are organized by date within the range so I used multiples of 5 for the page numbers to try for \n",
    "# an even sample\n",
    "n = 5\n",
    "urls = []\n",
    "while n <= 100:\n",
    "    url = base_url+str(n)+search\n",
    "    n += 5\n",
    "    urls.append(url)\n",
    "    \n",
    "len(urls) #1000 potential articles"
   ]
  },
  {
   "cell_type": "code",
   "execution_count": 4,
   "id": "important-franchise",
   "metadata": {},
   "outputs": [
    {
     "data": {
      "text/plain": [
       "1000"
      ]
     },
     "execution_count": 4,
     "metadata": {},
     "output_type": "execute_result"
    }
   ],
   "source": [
    "# Iterate through the urls of the search pages and get all the article urls embedded there \n",
    "\n",
    "art_links = []\n",
    "\n",
    "for url in urls:\n",
    "    response = requests.get(url)\n",
    "    soup = BeautifulSoup(response.text, 'html.parser')\n",
    "    divs = soup.find_all(\"div\", {\"class\":\"entrylist__entry\"})\n",
    "    #print(divs)\n",
    "    for div in divs:\n",
    "        a = div.find('a') \n",
    "        art_links.append(a.get('href'))\n",
    "        \n",
    "    \n",
    "#art_links    \n",
    "\n",
    "len(art_links)"
   ]
  },
  {
   "cell_type": "code",
   "execution_count": 5,
   "id": "billion-paint",
   "metadata": {},
   "outputs": [
    {
     "data": {
      "text/plain": [
       "['https://www.sueddeutsche.de/politik/migration-wams-ueber-8000-spezielle-deutschklassen-fuer-fluechtlinge-geschaffen-dpa.urn-newsml-dpa-com-20090101-151227-99-575735',\n",
       " 'https://www.sueddeutsche.de/politik/migration-italienische-kuestenwache-rettet-weitere-bootsfluechtlinge-dpa.urn-newsml-dpa-com-20090101-151226-99-574575',\n",
       " 'https://www.sueddeutsche.de/kultur/rueckblick-magische-kinomomente-des-jahres-2015-1.2785573',\n",
       " 'https://www.sueddeutsche.de/politik/rueckblick-2015-flucht-krieg-und-klimawandel-1.2794106',\n",
       " 'https://www.sueddeutsche.de/politik/fluechtlinge-schwaebisch-gmuend-will-zeichen-gegen-menschenfeindlichkeit-setzen-1.2796664']"
      ]
     },
     "execution_count": 5,
     "metadata": {},
     "output_type": "execute_result"
    }
   ],
   "source": [
    "# Quick look to make sure everything seems to be working\n",
    "art_links[:5]"
   ]
  },
  {
   "cell_type": "code",
   "execution_count": 6,
   "id": "affecting-booking",
   "metadata": {},
   "outputs": [],
   "source": [
    "# Go through all the collected urls and get the text and date, append to a dictionary for easy df making\n",
    "date_dict = {}\n",
    "art_dict_sz = {}\n",
    "x = ' '\n",
    "for link in art_links:\n",
    "    #page = urllib.request.urlopen(link)\n",
    "    response = requests.get(link)\n",
    "    if response.status_code=='404': #in case it runs into any 404 messages\n",
    "        print(url)\n",
    "        pass\n",
    "    soup = BeautifulSoup(response.text, 'html.parser')\n",
    "    #soup = BeautifulSoup(page)\n",
    "    t = soup.find(\"div\", {\"class\":\"css-1jpy2hx e1lg1pmy0\"})\n",
    "    if t==None:\n",
    "        art_dict_sz[link] = 'None' # A few links are broken it seems\n",
    "        pass\n",
    "        #print(t)\n",
    "    else:\n",
    "        d = soup.find(\"time\",  {\"class\":\"css-1ccsr7y\"})\n",
    "        date = d.text\n",
    "        paras = t.findAll('p')\n",
    "        a = [p.text for p in paras]\n",
    "        text = x.join(a)\n",
    "        date_dict[link] = date\n",
    "        art_dict_sz[link] = text\n",
    "    \n",
    "#art_dict_sz\n",
    "#date_dict"
   ]
  },
  {
   "cell_type": "code",
   "execution_count": 7,
   "id": "therapeutic-bedroom",
   "metadata": {},
   "outputs": [
    {
     "data": {
      "text/plain": [
       "982"
      ]
     },
     "execution_count": 7,
     "metadata": {},
     "output_type": "execute_result"
    }
   ],
   "source": [
    "# Lost a couple along the way, overall it still seems a good sample\n",
    "len(art_dict_sz)\n",
    "len(date_dict)"
   ]
  },
  {
   "cell_type": "code",
   "execution_count": 35,
   "id": "egyptian-service",
   "metadata": {},
   "outputs": [],
   "source": [
    "#Create a dataframe from the two dictionaries\n",
    "df_sz = pd.DataFrame.from_dict(art_dict_sz, orient='index')\n",
    "df_sz.reset_index(inplace=True)\n",
    "df_sz.columns = ['href', 'text']\n",
    "df_sz['date']= df_sz['href'].map(date_dict)\n",
    "\n",
    "# dropping NaN's\n",
    "df_sz = df_sz.dropna(axis=0, how='any')\n"
   ]
  },
  {
   "cell_type": "code",
   "execution_count": 36,
   "id": "metric-duncan",
   "metadata": {},
   "outputs": [
    {
     "data": {
      "text/html": [
       "<div>\n",
       "<style scoped>\n",
       "    .dataframe tbody tr th:only-of-type {\n",
       "        vertical-align: middle;\n",
       "    }\n",
       "\n",
       "    .dataframe tbody tr th {\n",
       "        vertical-align: top;\n",
       "    }\n",
       "\n",
       "    .dataframe thead th {\n",
       "        text-align: right;\n",
       "    }\n",
       "</style>\n",
       "<table border=\"1\" class=\"dataframe\">\n",
       "  <thead>\n",
       "    <tr style=\"text-align: right;\">\n",
       "      <th></th>\n",
       "      <th>href</th>\n",
       "      <th>text</th>\n",
       "      <th>date</th>\n",
       "      <th>word_count</th>\n",
       "      <th>sent_count</th>\n",
       "      <th>toks</th>\n",
       "      <th>types</th>\n",
       "      <th>TTR</th>\n",
       "    </tr>\n",
       "  </thead>\n",
       "  <tbody>\n",
       "    <tr>\n",
       "      <th>0</th>\n",
       "      <td>https://www.sueddeutsche.de/politik/migration-...</td>\n",
       "      <td>Berlin (dpa) - Die Bundesländer haben für die ...</td>\n",
       "      <td>27. Dezember 2015, 2:45 Uhr</td>\n",
       "      <td>89</td>\n",
       "      <td>5</td>\n",
       "      <td>103</td>\n",
       "      <td>83</td>\n",
       "      <td>0.805825</td>\n",
       "    </tr>\n",
       "    <tr>\n",
       "      <th>1</th>\n",
       "      <td>https://www.sueddeutsche.de/politik/migration-...</td>\n",
       "      <td>Rom (dpa) - Im Mittelmeer vor Italien sind auc...</td>\n",
       "      <td>26. Dezember 2015, 20:51 Uhr</td>\n",
       "      <td>62</td>\n",
       "      <td>4</td>\n",
       "      <td>72</td>\n",
       "      <td>56</td>\n",
       "      <td>0.777778</td>\n",
       "    </tr>\n",
       "    <tr>\n",
       "      <th>2</th>\n",
       "      <td>https://www.sueddeutsche.de/kultur/rueckblick-...</td>\n",
       "      <td>1 / 12 Quelle: 20th Century Fox Südseefilme si...</td>\n",
       "      <td>26. Dezember 2015, 17:57 Uhr</td>\n",
       "      <td>1818</td>\n",
       "      <td>87</td>\n",
       "      <td>2174</td>\n",
       "      <td>1004</td>\n",
       "      <td>0.461822</td>\n",
       "    </tr>\n",
       "    <tr>\n",
       "      <th>3</th>\n",
       "      <td>https://www.sueddeutsche.de/politik/rueckblick...</td>\n",
       "      <td>Bei dem Blick zurück auf das Jahr 2015 stechen...</td>\n",
       "      <td>26. Dezember 2015, 16:00 Uhr</td>\n",
       "      <td>451</td>\n",
       "      <td>28</td>\n",
       "      <td>512</td>\n",
       "      <td>312</td>\n",
       "      <td>0.609375</td>\n",
       "    </tr>\n",
       "    <tr>\n",
       "      <th>4</th>\n",
       "      <td>https://www.sueddeutsche.de/politik/fluechtlin...</td>\n",
       "      <td>Nach einem Brandanschlag auf eine noch nicht f...</td>\n",
       "      <td>26. Dezember 2015, 15:43 Uhr</td>\n",
       "      <td>387</td>\n",
       "      <td>26</td>\n",
       "      <td>451</td>\n",
       "      <td>274</td>\n",
       "      <td>0.607539</td>\n",
       "    </tr>\n",
       "  </tbody>\n",
       "</table>\n",
       "</div>"
      ],
      "text/plain": [
       "                                                href  \\\n",
       "0  https://www.sueddeutsche.de/politik/migration-...   \n",
       "1  https://www.sueddeutsche.de/politik/migration-...   \n",
       "2  https://www.sueddeutsche.de/kultur/rueckblick-...   \n",
       "3  https://www.sueddeutsche.de/politik/rueckblick...   \n",
       "4  https://www.sueddeutsche.de/politik/fluechtlin...   \n",
       "\n",
       "                                                text  \\\n",
       "0  Berlin (dpa) - Die Bundesländer haben für die ...   \n",
       "1  Rom (dpa) - Im Mittelmeer vor Italien sind auc...   \n",
       "2  1 / 12 Quelle: 20th Century Fox Südseefilme si...   \n",
       "3  Bei dem Blick zurück auf das Jahr 2015 stechen...   \n",
       "4  Nach einem Brandanschlag auf eine noch nicht f...   \n",
       "\n",
       "                           date  word_count  sent_count  toks  types       TTR  \n",
       "0   27. Dezember 2015, 2:45 Uhr          89           5   103     83  0.805825  \n",
       "1  26. Dezember 2015, 20:51 Uhr          62           4    72     56  0.777778  \n",
       "2  26. Dezember 2015, 17:57 Uhr        1818          87  2174   1004  0.461822  \n",
       "3  26. Dezember 2015, 16:00 Uhr         451          28   512    312  0.609375  \n",
       "4  26. Dezember 2015, 15:43 Uhr         387          26   451    274  0.607539  "
      ]
     },
     "execution_count": 36,
     "metadata": {},
     "output_type": "execute_result"
    }
   ],
   "source": [
    "# add word count, sents, sent lens? token, types, ttr\n",
    "word_c = df_sz.text.str.split().map(len)\n",
    "df_sz['word_count'] = word_c\n",
    "df_sz['sent_count'] = df_sz['text'].map(lambda s: len(nltk.sent_tokenize(s))) \n",
    "df_sz['toks'] = df_sz['text'].map(lambda t: len(nltk.word_tokenize(t))) \n",
    "df_sz['types'] = df_sz['text'].map(lambda x: len(set(nltk.word_tokenize(x)))) \n",
    "df_sz['TTR'] = df_sz.types/df_sz.toks\n",
    "\n",
    "df_sz.head()"
   ]
  },
  {
   "cell_type": "code",
   "execution_count": 37,
   "id": "adult-perry",
   "metadata": {},
   "outputs": [
    {
     "name": "stdout",
     "output_type": "stream",
     "text": [
      "<class 'pandas.core.frame.DataFrame'>\n",
      "Int64Index: 982 entries, 0 to 999\n",
      "Data columns (total 8 columns):\n",
      " #   Column      Non-Null Count  Dtype  \n",
      "---  ------      --------------  -----  \n",
      " 0   href        982 non-null    object \n",
      " 1   text        982 non-null    object \n",
      " 2   date        982 non-null    object \n",
      " 3   word_count  982 non-null    int64  \n",
      " 4   sent_count  982 non-null    int64  \n",
      " 5   toks        982 non-null    int64  \n",
      " 6   types       982 non-null    int64  \n",
      " 7   TTR         982 non-null    float64\n",
      "dtypes: float64(1), int64(4), object(3)\n",
      "memory usage: 69.0+ KB\n"
     ]
    }
   ],
   "source": [
    "# Looking good!\n",
    "df_sz.info()"
   ]
  },
  {
   "cell_type": "code",
   "execution_count": 38,
   "id": "protecting-attempt",
   "metadata": {},
   "outputs": [
    {
     "data": {
      "text/html": [
       "<div>\n",
       "<style scoped>\n",
       "    .dataframe tbody tr th:only-of-type {\n",
       "        vertical-align: middle;\n",
       "    }\n",
       "\n",
       "    .dataframe tbody tr th {\n",
       "        vertical-align: top;\n",
       "    }\n",
       "\n",
       "    .dataframe thead th {\n",
       "        text-align: right;\n",
       "    }\n",
       "</style>\n",
       "<table border=\"1\" class=\"dataframe\">\n",
       "  <thead>\n",
       "    <tr style=\"text-align: right;\">\n",
       "      <th></th>\n",
       "      <th>word_count</th>\n",
       "      <th>sent_count</th>\n",
       "      <th>toks</th>\n",
       "      <th>types</th>\n",
       "      <th>TTR</th>\n",
       "    </tr>\n",
       "  </thead>\n",
       "  <tbody>\n",
       "    <tr>\n",
       "      <th>count</th>\n",
       "      <td>982.000000</td>\n",
       "      <td>982.000000</td>\n",
       "      <td>982.000000</td>\n",
       "      <td>982.000000</td>\n",
       "      <td>982.000000</td>\n",
       "    </tr>\n",
       "    <tr>\n",
       "      <th>mean</th>\n",
       "      <td>375.175153</td>\n",
       "      <td>24.216904</td>\n",
       "      <td>438.845214</td>\n",
       "      <td>240.369654</td>\n",
       "      <td>0.618964</td>\n",
       "    </tr>\n",
       "    <tr>\n",
       "      <th>std</th>\n",
       "      <td>280.159402</td>\n",
       "      <td>19.202361</td>\n",
       "      <td>329.773222</td>\n",
       "      <td>146.551981</td>\n",
       "      <td>0.113869</td>\n",
       "    </tr>\n",
       "    <tr>\n",
       "      <th>min</th>\n",
       "      <td>4.000000</td>\n",
       "      <td>1.000000</td>\n",
       "      <td>5.000000</td>\n",
       "      <td>5.000000</td>\n",
       "      <td>0.307692</td>\n",
       "    </tr>\n",
       "    <tr>\n",
       "      <th>25%</th>\n",
       "      <td>129.500000</td>\n",
       "      <td>8.000000</td>\n",
       "      <td>155.500000</td>\n",
       "      <td>107.250000</td>\n",
       "      <td>0.532525</td>\n",
       "    </tr>\n",
       "    <tr>\n",
       "      <th>50%</th>\n",
       "      <td>342.000000</td>\n",
       "      <td>21.000000</td>\n",
       "      <td>397.500000</td>\n",
       "      <td>233.500000</td>\n",
       "      <td>0.591833</td>\n",
       "    </tr>\n",
       "    <tr>\n",
       "      <th>75%</th>\n",
       "      <td>536.000000</td>\n",
       "      <td>34.000000</td>\n",
       "      <td>636.000000</td>\n",
       "      <td>335.750000</td>\n",
       "      <td>0.693488</td>\n",
       "    </tr>\n",
       "    <tr>\n",
       "      <th>max</th>\n",
       "      <td>2402.000000</td>\n",
       "      <td>136.000000</td>\n",
       "      <td>2767.000000</td>\n",
       "      <td>1172.000000</td>\n",
       "      <td>1.000000</td>\n",
       "    </tr>\n",
       "  </tbody>\n",
       "</table>\n",
       "</div>"
      ],
      "text/plain": [
       "        word_count  sent_count         toks        types         TTR\n",
       "count   982.000000  982.000000   982.000000   982.000000  982.000000\n",
       "mean    375.175153   24.216904   438.845214   240.369654    0.618964\n",
       "std     280.159402   19.202361   329.773222   146.551981    0.113869\n",
       "min       4.000000    1.000000     5.000000     5.000000    0.307692\n",
       "25%     129.500000    8.000000   155.500000   107.250000    0.532525\n",
       "50%     342.000000   21.000000   397.500000   233.500000    0.591833\n",
       "75%     536.000000   34.000000   636.000000   335.750000    0.693488\n",
       "max    2402.000000  136.000000  2767.000000  1172.000000    1.000000"
      ]
     },
     "execution_count": 38,
     "metadata": {},
     "output_type": "execute_result"
    }
   ],
   "source": [
    "df_sz.describe()"
   ]
  },
  {
   "cell_type": "code",
   "execution_count": 39,
   "id": "tutorial-princeton",
   "metadata": {},
   "outputs": [],
   "source": [
    "# Pickling the dataframe for easy use later, .gitignore is updated with .pkl files\n",
    "pd.to_pickle(df_sz, \"sz_df.pkl\")"
   ]
  }
 ],
 "metadata": {
  "kernelspec": {
   "display_name": "Python 3",
   "language": "python",
   "name": "python3"
  },
  "language_info": {
   "codemirror_mode": {
    "name": "ipython",
    "version": 3
   },
   "file_extension": ".py",
   "mimetype": "text/x-python",
   "name": "python",
   "nbconvert_exporter": "python",
   "pygments_lexer": "ipython3",
   "version": "3.7.6"
  }
 },
 "nbformat": 4,
 "nbformat_minor": 5
}
