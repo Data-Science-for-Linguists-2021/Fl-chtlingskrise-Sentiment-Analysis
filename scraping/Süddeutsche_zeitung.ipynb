{
 "cells": [
  {
   "cell_type": "markdown",
   "id": "conscious-headline",
   "metadata": {},
   "source": [
    "## Süddeutsche Zeitung\n",
    "#### Code for scraping Der Süddeutsche Zeitung \n",
    "- https://www.sueddeutsche.de"
   ]
  },
  {
   "cell_type": "code",
   "execution_count": 4,
   "id": "otherwise-knight",
   "metadata": {},
   "outputs": [],
   "source": [
    "# Import necessary libraries\n",
    "import requests\n",
    "import urllib\n",
    "import pandas as pd\n",
    "from bs4 import BeautifulSoup\n",
    "import nltk"
   ]
  },
  {
   "cell_type": "markdown",
   "id": "entire-leave",
   "metadata": {},
   "source": [
    "This site kindly uses a regular search string and allows you to search for a date range, so I scraped links from\n",
    "the search page (50 per page) and then wrote a loop to scrape the text from each of those urls."
   ]
  },
  {
   "cell_type": "code",
   "execution_count": 24,
   "id": "strong-harvest",
   "metadata": {},
   "outputs": [
    {
     "data": {
      "text/plain": [
       "20"
      ]
     },
     "execution_count": 24,
     "metadata": {},
     "output_type": "execute_result"
    }
   ],
   "source": [
    "# Search term (\"Flüchtling\") and date range\n",
    "# as of 04/24/21 I changed this to be sorted by relevance instead of chronologically because it was only\n",
    "# getting 3 months\n",
    "search ='?search=Flüchtling&sort=score&all%5B%5D=dep&all%5B%5D=typ&all%5B%5D=sys&time=2015-01-01T00%3A00%2F2015-12-31T23%3A59&startDate=01.01.2015&endDate=31.12.2015'\n",
    "# Site's base url\n",
    "base_url = 'https://www.sueddeutsche.de/news/page/'\n",
    "# results are organized by date within the range so I used multiples of 5 for the page numbers to try for \n",
    "# an even sample\n",
    "n = 5\n",
    "urls = []\n",
    "while n <= 100:\n",
    "    url = base_url+str(n)+search\n",
    "    n += 5\n",
    "    urls.append(url)\n",
    "    \n",
    "len(urls) #1000 potential articles\n",
    "#urls"
   ]
  },
  {
   "cell_type": "code",
   "execution_count": 26,
   "id": "important-franchise",
   "metadata": {},
   "outputs": [
    {
     "data": {
      "text/plain": [
       "1000"
      ]
     },
     "execution_count": 26,
     "metadata": {},
     "output_type": "execute_result"
    }
   ],
   "source": [
    "# Iterate through the urls of the search pages and get all the article urls embedded there \n",
    "\n",
    "art_links = []\n",
    "\n",
    "for url in urls:\n",
    "    response = requests.get(url)\n",
    "    soup = BeautifulSoup(response.text, 'html.parser')\n",
    "    divs = soup.find_all(\"div\", {\"class\":\"entrylist__entry\"})\n",
    "    #print(divs)\n",
    "    for div in divs:\n",
    "        a = div.find('a') \n",
    "        art_links.append(a.get('href'))\n",
    "        \n",
    "    \n",
    "#art_links    \n",
    "\n",
    "len(art_links)"
   ]
  },
  {
   "cell_type": "code",
   "execution_count": 27,
   "id": "billion-paint",
   "metadata": {},
   "outputs": [
    {
     "data": {
      "text/plain": [
       "['https://www.sueddeutsche.de/politik/fluechtlingskrise-zug-autobahn-und-faehrverkehr-zwischen-deutschland-und-daenemark-gestoppt-1.2641386',\n",
       " 'https://www.sueddeutsche.de/politik/fluechtlinge-wie-menschen-in-deutschland-fluechtlingen-helfen-dpa.urn-newsml-dpa-com-20090101-150825-99-08985',\n",
       " 'https://www.sueddeutsche.de/politik/polen-angst-und-kalkuel-1.2640725',\n",
       " 'https://www.sueddeutsche.de/politik/migration-es-wird-engdeutschland-erwartet-mehr-noch-fluechtlinge-dpa.urn-newsml-dpa-com-20090101-150912-99-01498',\n",
       " 'https://www.sueddeutsche.de/politik/international-steinmeier-fordert-saudi-arabien-zu-aufnahme-von-fluechtlingen-auf-dpa.urn-newsml-dpa-com-20090101-151019-99-06011']"
      ]
     },
     "execution_count": 27,
     "metadata": {},
     "output_type": "execute_result"
    }
   ],
   "source": [
    "# Quick look to make sure everything seems to be working\n",
    "art_links[:5]"
   ]
  },
  {
   "cell_type": "code",
   "execution_count": 28,
   "id": "affecting-booking",
   "metadata": {},
   "outputs": [],
   "source": [
    "# Go through all the collected urls and get the text and date, append to a dictionary for easy df making\n",
    "date_dict = {}\n",
    "art_dict_sz = {}\n",
    "x = ' '\n",
    "for link in art_links:\n",
    "    #page = urllib.request.urlopen(link)\n",
    "    response = requests.get(link)\n",
    "    if response.status_code=='404': #in case it runs into any 404 messages\n",
    "        print(url)\n",
    "        pass\n",
    "    soup = BeautifulSoup(response.text, 'html.parser')\n",
    "    #soup = BeautifulSoup(page)\n",
    "    t = soup.find(\"div\", {\"class\":\"css-1jpy2hx e1lg1pmy0\"})\n",
    "    if t==None:\n",
    "        art_dict_sz[link] = 'None' # A few links are broken it seems\n",
    "        pass\n",
    "        #print(t)\n",
    "    else:\n",
    "        d = soup.find(\"time\",  {\"class\":\"css-1ccsr7y\"})\n",
    "        date = d.text\n",
    "        paras = t.findAll('p')\n",
    "        a = [p.text for p in paras]\n",
    "        text = x.join(a)\n",
    "        date_dict[link] = date\n",
    "        art_dict_sz[link] = text\n",
    "    \n",
    "#art_dict_sz\n",
    "#date_dict"
   ]
  },
  {
   "cell_type": "code",
   "execution_count": 30,
   "id": "therapeutic-bedroom",
   "metadata": {},
   "outputs": [
    {
     "data": {
      "text/plain": [
       "990"
      ]
     },
     "execution_count": 30,
     "metadata": {},
     "output_type": "execute_result"
    }
   ],
   "source": [
    "# Lost a couple along the way, overall it still seems a good sample\n",
    "# Since changing to sort by relevance, there are 8 more articles\n",
    "len(art_dict_sz)\n",
    "len(date_dict)"
   ]
  },
  {
   "cell_type": "code",
   "execution_count": 31,
   "id": "egyptian-service",
   "metadata": {},
   "outputs": [],
   "source": [
    "#Create a dataframe from the two dictionaries\n",
    "df_sz = pd.DataFrame.from_dict(art_dict_sz, orient='index')\n",
    "df_sz.reset_index(inplace=True)\n",
    "df_sz.columns = ['href', 'text']\n",
    "df_sz['date']= df_sz['href'].map(date_dict)\n",
    "\n",
    "# dropping NaN's\n",
    "df_sz = df_sz.dropna(axis=0, how='any')\n"
   ]
  },
  {
   "cell_type": "code",
   "execution_count": 32,
   "id": "metric-duncan",
   "metadata": {},
   "outputs": [
    {
     "data": {
      "text/html": [
       "<div>\n",
       "<style scoped>\n",
       "    .dataframe tbody tr th:only-of-type {\n",
       "        vertical-align: middle;\n",
       "    }\n",
       "\n",
       "    .dataframe tbody tr th {\n",
       "        vertical-align: top;\n",
       "    }\n",
       "\n",
       "    .dataframe thead th {\n",
       "        text-align: right;\n",
       "    }\n",
       "</style>\n",
       "<table border=\"1\" class=\"dataframe\">\n",
       "  <thead>\n",
       "    <tr style=\"text-align: right;\">\n",
       "      <th></th>\n",
       "      <th>href</th>\n",
       "      <th>text</th>\n",
       "      <th>date</th>\n",
       "      <th>word_count</th>\n",
       "      <th>sent_count</th>\n",
       "      <th>toks</th>\n",
       "      <th>types</th>\n",
       "      <th>TTR</th>\n",
       "    </tr>\n",
       "  </thead>\n",
       "  <tbody>\n",
       "    <tr>\n",
       "      <th>0</th>\n",
       "      <td>https://www.sueddeutsche.de/politik/fluechtlin...</td>\n",
       "      <td>Die europäische Flüchtlingskrise hat den Norde...</td>\n",
       "      <td>9. September 2015, 17:25 Uhr</td>\n",
       "      <td>923</td>\n",
       "      <td>60</td>\n",
       "      <td>1051</td>\n",
       "      <td>473</td>\n",
       "      <td>0.450048</td>\n",
       "    </tr>\n",
       "    <tr>\n",
       "      <th>1</th>\n",
       "      <td>https://www.sueddeutsche.de/politik/fluechtlin...</td>\n",
       "      <td>Berlin (dpa) - Bilder rechtsextremer Ausschrei...</td>\n",
       "      <td>26. August 2015, 8:00 Uhr</td>\n",
       "      <td>649</td>\n",
       "      <td>48</td>\n",
       "      <td>797</td>\n",
       "      <td>456</td>\n",
       "      <td>0.572146</td>\n",
       "    </tr>\n",
       "    <tr>\n",
       "      <th>2</th>\n",
       "      <td>https://www.sueddeutsche.de/politik/polen-angs...</td>\n",
       "      <td>Erzbischof Stanisław Gądecki ist seinem Chef v...</td>\n",
       "      <td>9. September 2015, 19:05 Uhr</td>\n",
       "      <td>330</td>\n",
       "      <td>19</td>\n",
       "      <td>376</td>\n",
       "      <td>234</td>\n",
       "      <td>0.622340</td>\n",
       "    </tr>\n",
       "    <tr>\n",
       "      <th>3</th>\n",
       "      <td>https://www.sueddeutsche.de/politik/migration-...</td>\n",
       "      <td>München/Berlin (dpa) - Die Behörden in Deutsch...</td>\n",
       "      <td>12. September 2015, 15:02 Uhr</td>\n",
       "      <td>572</td>\n",
       "      <td>38</td>\n",
       "      <td>681</td>\n",
       "      <td>357</td>\n",
       "      <td>0.524229</td>\n",
       "    </tr>\n",
       "    <tr>\n",
       "      <th>4</th>\n",
       "      <td>https://www.sueddeutsche.de/politik/internatio...</td>\n",
       "      <td>Riad (dpa) - Außenminister Frank-Walter Steinm...</td>\n",
       "      <td>19. Oktober 2015, 12:47 Uhr</td>\n",
       "      <td>68</td>\n",
       "      <td>4</td>\n",
       "      <td>80</td>\n",
       "      <td>63</td>\n",
       "      <td>0.787500</td>\n",
       "    </tr>\n",
       "  </tbody>\n",
       "</table>\n",
       "</div>"
      ],
      "text/plain": [
       "                                                href  \\\n",
       "0  https://www.sueddeutsche.de/politik/fluechtlin...   \n",
       "1  https://www.sueddeutsche.de/politik/fluechtlin...   \n",
       "2  https://www.sueddeutsche.de/politik/polen-angs...   \n",
       "3  https://www.sueddeutsche.de/politik/migration-...   \n",
       "4  https://www.sueddeutsche.de/politik/internatio...   \n",
       "\n",
       "                                                text  \\\n",
       "0  Die europäische Flüchtlingskrise hat den Norde...   \n",
       "1  Berlin (dpa) - Bilder rechtsextremer Ausschrei...   \n",
       "2  Erzbischof Stanisław Gądecki ist seinem Chef v...   \n",
       "3  München/Berlin (dpa) - Die Behörden in Deutsch...   \n",
       "4  Riad (dpa) - Außenminister Frank-Walter Steinm...   \n",
       "\n",
       "                            date  word_count  sent_count  toks  types  \\\n",
       "0   9. September 2015, 17:25 Uhr         923          60  1051    473   \n",
       "1      26. August 2015, 8:00 Uhr         649          48   797    456   \n",
       "2   9. September 2015, 19:05 Uhr         330          19   376    234   \n",
       "3  12. September 2015, 15:02 Uhr         572          38   681    357   \n",
       "4    19. Oktober 2015, 12:47 Uhr          68           4    80     63   \n",
       "\n",
       "        TTR  \n",
       "0  0.450048  \n",
       "1  0.572146  \n",
       "2  0.622340  \n",
       "3  0.524229  \n",
       "4  0.787500  "
      ]
     },
     "execution_count": 32,
     "metadata": {},
     "output_type": "execute_result"
    }
   ],
   "source": [
    "# add word count, sents, sent lens? token, types, ttr\n",
    "word_c = df_sz.text.str.split().map(len)\n",
    "df_sz['word_count'] = word_c\n",
    "df_sz['sent_count'] = df_sz['text'].map(lambda s: len(nltk.sent_tokenize(s))) \n",
    "df_sz['toks'] = df_sz['text'].map(lambda t: len(nltk.word_tokenize(t))) \n",
    "df_sz['types'] = df_sz['text'].map(lambda x: len(set(nltk.word_tokenize(x)))) \n",
    "df_sz['TTR'] = df_sz.types/df_sz.toks\n",
    "\n",
    "df_sz.head()"
   ]
  },
  {
   "cell_type": "code",
   "execution_count": 33,
   "id": "adult-perry",
   "metadata": {},
   "outputs": [
    {
     "name": "stdout",
     "output_type": "stream",
     "text": [
      "<class 'pandas.core.frame.DataFrame'>\n",
      "Int64Index: 990 entries, 0 to 999\n",
      "Data columns (total 8 columns):\n",
      " #   Column      Non-Null Count  Dtype  \n",
      "---  ------      --------------  -----  \n",
      " 0   href        990 non-null    object \n",
      " 1   text        990 non-null    object \n",
      " 2   date        990 non-null    object \n",
      " 3   word_count  990 non-null    int64  \n",
      " 4   sent_count  990 non-null    int64  \n",
      " 5   toks        990 non-null    int64  \n",
      " 6   types       990 non-null    int64  \n",
      " 7   TTR         990 non-null    float64\n",
      "dtypes: float64(1), int64(4), object(3)\n",
      "memory usage: 69.6+ KB\n"
     ]
    }
   ],
   "source": [
    "# Looking good!\n",
    "df_sz.info()"
   ]
  },
  {
   "cell_type": "code",
   "execution_count": 34,
   "id": "protecting-attempt",
   "metadata": {},
   "outputs": [
    {
     "data": {
      "text/html": [
       "<div>\n",
       "<style scoped>\n",
       "    .dataframe tbody tr th:only-of-type {\n",
       "        vertical-align: middle;\n",
       "    }\n",
       "\n",
       "    .dataframe tbody tr th {\n",
       "        vertical-align: top;\n",
       "    }\n",
       "\n",
       "    .dataframe thead th {\n",
       "        text-align: right;\n",
       "    }\n",
       "</style>\n",
       "<table border=\"1\" class=\"dataframe\">\n",
       "  <thead>\n",
       "    <tr style=\"text-align: right;\">\n",
       "      <th></th>\n",
       "      <th>word_count</th>\n",
       "      <th>sent_count</th>\n",
       "      <th>toks</th>\n",
       "      <th>types</th>\n",
       "      <th>TTR</th>\n",
       "    </tr>\n",
       "  </thead>\n",
       "  <tbody>\n",
       "    <tr>\n",
       "      <th>count</th>\n",
       "      <td>990.000000</td>\n",
       "      <td>990.000000</td>\n",
       "      <td>990.000000</td>\n",
       "      <td>990.000000</td>\n",
       "      <td>990.000000</td>\n",
       "    </tr>\n",
       "    <tr>\n",
       "      <th>mean</th>\n",
       "      <td>320.090909</td>\n",
       "      <td>20.450505</td>\n",
       "      <td>372.702020</td>\n",
       "      <td>208.315152</td>\n",
       "      <td>0.647938</td>\n",
       "    </tr>\n",
       "    <tr>\n",
       "      <th>std</th>\n",
       "      <td>265.585881</td>\n",
       "      <td>17.888687</td>\n",
       "      <td>310.979566</td>\n",
       "      <td>140.115162</td>\n",
       "      <td>0.123858</td>\n",
       "    </tr>\n",
       "    <tr>\n",
       "      <th>min</th>\n",
       "      <td>12.000000</td>\n",
       "      <td>1.000000</td>\n",
       "      <td>13.000000</td>\n",
       "      <td>13.000000</td>\n",
       "      <td>0.387226</td>\n",
       "    </tr>\n",
       "    <tr>\n",
       "      <th>25%</th>\n",
       "      <td>82.000000</td>\n",
       "      <td>6.000000</td>\n",
       "      <td>94.000000</td>\n",
       "      <td>75.000000</td>\n",
       "      <td>0.545873</td>\n",
       "    </tr>\n",
       "    <tr>\n",
       "      <th>50%</th>\n",
       "      <td>244.500000</td>\n",
       "      <td>15.000000</td>\n",
       "      <td>285.000000</td>\n",
       "      <td>173.500000</td>\n",
       "      <td>0.626368</td>\n",
       "    </tr>\n",
       "    <tr>\n",
       "      <th>75%</th>\n",
       "      <td>516.000000</td>\n",
       "      <td>31.000000</td>\n",
       "      <td>604.000000</td>\n",
       "      <td>327.000000</td>\n",
       "      <td>0.765629</td>\n",
       "    </tr>\n",
       "    <tr>\n",
       "      <th>max</th>\n",
       "      <td>2766.000000</td>\n",
       "      <td>189.000000</td>\n",
       "      <td>3241.000000</td>\n",
       "      <td>1255.000000</td>\n",
       "      <td>1.000000</td>\n",
       "    </tr>\n",
       "  </tbody>\n",
       "</table>\n",
       "</div>"
      ],
      "text/plain": [
       "        word_count  sent_count         toks        types         TTR\n",
       "count   990.000000  990.000000   990.000000   990.000000  990.000000\n",
       "mean    320.090909   20.450505   372.702020   208.315152    0.647938\n",
       "std     265.585881   17.888687   310.979566   140.115162    0.123858\n",
       "min      12.000000    1.000000    13.000000    13.000000    0.387226\n",
       "25%      82.000000    6.000000    94.000000    75.000000    0.545873\n",
       "50%     244.500000   15.000000   285.000000   173.500000    0.626368\n",
       "75%     516.000000   31.000000   604.000000   327.000000    0.765629\n",
       "max    2766.000000  189.000000  3241.000000  1255.000000    1.000000"
      ]
     },
     "execution_count": 34,
     "metadata": {},
     "output_type": "execute_result"
    }
   ],
   "source": [
    "df_sz.describe()"
   ]
  },
  {
   "cell_type": "code",
   "execution_count": 35,
   "id": "tutorial-princeton",
   "metadata": {},
   "outputs": [],
   "source": [
    "# Pickling the dataframe for easy use later, .gitignore is updated with .pkl files\n",
    "pd.to_pickle(df_sz, \"sz_df.pkl\")"
   ]
  }
 ],
 "metadata": {
  "kernelspec": {
   "display_name": "Python 3",
   "language": "python",
   "name": "python3"
  },
  "language_info": {
   "codemirror_mode": {
    "name": "ipython",
    "version": 3
   },
   "file_extension": ".py",
   "mimetype": "text/x-python",
   "name": "python",
   "nbconvert_exporter": "python",
   "pygments_lexer": "ipython3",
   "version": "3.7.6"
  }
 },
 "nbformat": 4,
 "nbformat_minor": 5
}
