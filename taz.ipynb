{
 "cells": [
  {
   "cell_type": "code",
   "execution_count": 60,
   "id": "medium-burst",
   "metadata": {},
   "outputs": [
    {
     "data": {
      "text/plain": [
       "100"
      ]
     },
     "execution_count": 60,
     "metadata": {},
     "output_type": "execute_result"
    }
   ],
   "source": [
    "#Manually compile a list of 100 links from Pitt accessed archive\n",
    "\n",
    "links = ['https://taz.de/Kommunen-fordern-finanzielle-Hilfen/!5224892/', 'https://taz.de/Debatte-um-deutsche-Fluechtlingspolitik/!5237256/', \n",
    "         'https://taz.de/Mehr-Fluechtlinge-in-Deutschland/!5227827/', 'https://taz.de/Binnenfluechtlinge-in-der-Ukraine/!5214614/',\n",
    "        'https://taz.de/Doku-ueber-einen-Hamburger-Afghanen/!5013950/?goMobile2=1578528000052', 'https://taz.de/Protest-im-Knast-gegen-Abschiebung/!5216026/',\n",
    "        'https://taz.de/Versorgung-der-Fluechtlinge/!5225706/', 'https://taz.de/Hochschulzugang-fuer-Fluechtlinge/!5239440/',\n",
    "        'https://taz.de/Somalier-will-Klarheit/!5236411/', 'https://taz.de/Debatte-Pegida/!5022918/', 'https://taz.de/Fluechtlinge-im-Frauenhaus/!5207908/',\n",
    "        'https://taz.de/Debatte-EU-Fluechtlingsquote/!5201416/', 'https://taz.de/Angekommen--Fluechtlinge-erzaehlen/!5235639/',\n",
    "        'https://taz.de/Deutsche-Fluchthelfer-damals-und-heute/!5218659/', 'https://taz.de/Angekommen--Fluechtlinge-erzaehlen/!5235679/',\n",
    "        'https://taz.de/Oranienplatz-Fluechtlinge-in-Berlin/!5019701/', 'https://taz.de/Debatte-Flucht/!5242866/',\n",
    "        'https://taz.de/Daniel-Cohn-Bendit-ueber-Terror-in-Paris/!5249490/?goMobile2=1579478400052', 'https://taz.de/Tafeln-und-Fluechtlinge/!5250705/',\n",
    "        'https://taz.de/HSV-Parkplatz-und-Fluechtlinge/!5214942/', 'https://taz.de/Kosten-fuer-Unterbringung/!5220318/', \n",
    "        'https://taz.de/Kirchlicher-Aussenseiter/!5233284/', 'https://taz.de/Erstaufnahme-in-Neumuenster/!5243014/', \n",
    "        'https://taz.de/Fluechtlinge-auf-der-Balkanroute/!5257550/', 'https://taz.de/Aktivistin-ueber-Fluechtlingspolitik-in-GB/!5230157/',\n",
    "        'https://taz.de/Australiens-neue-Anti-Terror-Initiative/!5019210/', 'https://taz.de/Debatte-Flucht-und-Landgrabbing/!5235257/',\n",
    "        'https://taz.de/Berufsausbildung-fuer-Asylbewerber/!5024636/', 'https://taz.de/Fluechtlingsdebatte-in-den-USA/!5251704/',\n",
    "        'https://taz.de/Altersfeststellung-bei-Fluechtlingen/!5220497/', 'https://taz.de/Frankreichs-Fluechtlingspolitik/!5227172/',\n",
    "        'https://taz.de/Fluechtlinge-in-Berlin/!5239164/', 'https://taz.de/Ankunft-in-Deutschland/!5243435/', \n",
    "        'https://taz.de/FDP-Politikerin-ueber-Zukunft-der-Partei/!5242923/', 'https://taz.de/Fluechtlinge-am-Hamburger-Hauptbahnhof/!5230918/', \n",
    "        'https://taz.de/Kommentar-Fluechtlingspolitik/!5242988/', 'https://taz.de/Fluechtlingspolitik-in-Deutschland/!5217692/', \n",
    "        'https://taz.de/Umverteilung-von-Fluechtlingen/!5209333/', 'https://taz.de/Fluechtlingshilfe-mit-Hindernissen/!5243024/', \n",
    "        'https://taz.de/Terrormiliz-Boko-Haram-in-Nigeria/!5207871/', 'https://taz.de/Debatte-Jobchancen-fuer-Fluechtlinge/!5209953/', \n",
    "        'https://taz.de/Winternotprogramm-fuer-Obdachlose/!5242791/', 'https://taz.de/Kommentar-Katastrophe-im-Mittelmeer/!5011726/',\n",
    "        'https://taz.de/Misshandlung-von-Fluechtlingen-in-Ungarn/!5010563/', 'https://taz.de/Braende-in-Fluechtlingsunterkuenften/!5246907/',\n",
    "        'https://taz.de/Fluechtlingsfussball/!5229139/', 'https://taz.de/Fluechtlingsheime-in-Berlin/!5025015/', \n",
    "        'https://taz.de/Forscher-ueber-Massenunterkunft/!5218501/', 'https://taz.de/Die-Wahrheit/!5250641/', \n",
    "        'https://taz.de/Die-Wahrheit/!5241579/', 'https://taz.de/Kommentar-Asyldebatte/!5234992/', \n",
    "        'https://taz.de/Nutzung-von-Bus-und-Bahn/!5255975/', 'https://taz.de/Kommentar-Aushoehlung-des-Asylrechts/!5246373/', \n",
    "        'https://taz.de/Debatte-um-Wohnnachbarschaft/!5022859/', 'https://taz.de/Nach-den-Anschlaegen-in-Paris/!5251656/?goMobile2=1578441600052', \n",
    "        'https://taz.de/Nach-Merkels-Streichelauftritt/!5213977/', 'https://taz.de/Fremde-stranden-am-Flensburger-Bahnhof/!5246416/',\n",
    "        'https://taz.de/Schlaegereien-unter-Fluechtlingen/!5237797/', 'https://taz.de/Fluechtlingspolitik-in-Deutschland/!5225314/', \n",
    "        'https://taz.de/Private-Fluechtlingshilfe-auf-hoher-See/!5007629/', 'https://taz.de/Debatte-Merkels-Fluechtlingspolitik/!5229568/',\n",
    "        'https://taz.de/Hungerstreik-in-Hannover/!5236760/', 'https://taz.de/Sylter-Fluechtlingshelferin-ueber-Traumatherapie/!5020859/', \n",
    "        'https://taz.de/Fluechtling-ueber-deutsche-Waffenindustrie/!5222868/', 'https://taz.de/Fluechtlinge-in-Hoyerswerda/!5204925/', \n",
    "        'https://taz.de/Wohnraum-fuer-Fluechtlinge/!5247024/', 'https://taz.de/Rettung-fuer-Fluechtlinge-im-Mittelmeer/!5211198/', \n",
    "        'https://taz.de/Troeglitz-nach-dem-Brandanschlag/!5013918/', 'https://taz.de/Aerztliche-Versorgung-von-Fluechtlingen/!5233590/', \n",
    "        'https://taz.de/Verletzung-der-Privatsphaere/!5203953/', 'https://taz.de/Bildung-fuer-Fluechtlinge/!5232046/', \n",
    "        'https://taz.de/Kommentar-Europas-Fluechtlingspolitik/!5245858/', 'https://taz.de/Die-Wahrheit/!5260767/', \n",
    "        'https://taz.de/Deutsche-Prepaid-Karten/!5238553/', 'https://taz.de/Im-groessten-Squat-Athens/!5237295/', \n",
    "        'https://taz.de/NPD-Invasion-in-Fluechtlingsunterkunft/!5233250/?goMobile2=1567900800042', 'https://taz.de/Fluechtlinge-in-Frankfurt/!5236446/', \n",
    "        'https://taz.de/Kommentar-USA-Bashing-der-Linken/!5228864/', 'https://taz.de/Diskussion-um-Hilfen-fuer-Fluechtlinge/!5224662/', \n",
    "        'https://taz.de/Rassismus-bei-der-Polizei/!5223758/', 'https://taz.de/Hetze-an-der-serbischen-Grenze/!5229723/', \n",
    "        'https://taz.de/Doku-mit-Ex-Dschingis-Khan-Saenger/!5259934/', 'https://taz.de/Altersuntersuchungen-bei-Fluechtlingen/!5234361/', \n",
    "        'https://taz.de/Religioese-Fanatiker-in-Hamburg/!5227323/', 'https://taz.de/Kritik-an-der-Asylpolitik-Australiens/!5249468/', \n",
    "        'https://taz.de/Wie-Fluechtlinge-nach-Berlin-kommen/!5215017/', 'https://taz.de/Kommentar-Gelder-fuer-Fluechtlingshilfe/!5230540/', \n",
    "        'https://taz.de/Reaktionen-Neujahrsansprache-Merkel/!5025052/?goMobile2=1580515200052', 'https://taz.de/Gesundheitsversorgung-fuer-Fluechtlinge/!5008648/', \n",
    "        'https://taz.de/Kommentar-Verfassungsschutz/!5015190/', 'https://taz.de/Die-Wahrheit/!5227126/', \n",
    "        'https://taz.de/EU-Quoten-fuer-Fluechtlinge/!5228948/', 'https://taz.de/Fluechtlinge-in-Ungarn/!5230015/', \n",
    "        'https://taz.de/Die-Wahrheit/!5230863/', 'https://taz.de/Fluechtlinge-vor-Mazedonien/!5221920/', \n",
    "        'https://taz.de/Fluechtlinge-am-Budapester-Bahnhof/!5229651/', 'https://taz.de/Debatte-Wohnungen-fuer-Fluechtlinge/!5255078/', \n",
    "        'https://taz.de/Essay-Journalismus-und-Zuwanderung/!5260263/?goMobile=1525305600062', 'https://taz.de/Unterbringung-von-Fluechtlingen/!5215635/', \n",
    "        'https://taz.de/Recht-auf-Asyl/!5237396/']\n",
    "\n",
    "\n",
    "len(links)"
   ]
  },
  {
   "cell_type": "code",
   "execution_count": 62,
   "id": "constant-category",
   "metadata": {},
   "outputs": [
    {
     "data": {
      "text/plain": [
       "100"
      ]
     },
     "execution_count": 62,
     "metadata": {},
     "output_type": "execute_result"
    }
   ],
   "source": [
    "#Yay they are all unique! No duplicates!\n",
    "links = set(links)\n",
    "len(links)"
   ]
  },
  {
   "cell_type": "code",
   "execution_count": 47,
   "id": "greenhouse-brooklyn",
   "metadata": {},
   "outputs": [
    {
     "data": {
      "text/plain": [
       "{'https://taz.de/Kommunen-fordern-finanzielle-Hilfen/!5224892/': <li class=\"date\" content=\"2015-08-19T13:36:00+01:00\" itemprop=\"datePublished\">19. 8. 2015</li>,\n",
       " 'https://taz.de/Debatte-um-deutsche-Fluechtlingspolitik/!5237256/': <li class=\"date\" content=\"2015-10-09T19:51:00+01:00\" itemprop=\"datePublished\">9. 10. 2015</li>,\n",
       " 'https://taz.de/Mehr-Fluechtlinge-in-Deutschland/!5227827/': <li class=\"date\" content=\"2015-08-28T08:12:00+01:00\" itemprop=\"datePublished\">28. 8. 2015</li>,\n",
       " 'https://taz.de/Binnenfluechtlinge-in-der-Ukraine/!5214614/': <li class=\"date\" content=\"2015-07-24T16:28:00+01:00\" itemprop=\"datePublished\">24. 7. 2015</li>,\n",
       " 'https://taz.de/Doku-ueber-einen-Hamburger-Afghanen/!5013950/?goMobile2=1578528000052': <li class=\"date\" content=\"2015-04-06T12:00:00+02:00\" itemprop=\"datePublished\">6. 4. 2015</li>,\n",
       " 'https://taz.de/Protest-im-Knast-gegen-Abschiebung/!5216026/': <li class=\"date\" content=\"2015-08-17T18:13:00+02:00\" itemprop=\"datePublished\">17. 8. 2015</li>,\n",
       " 'https://taz.de/Versorgung-der-Fluechtlinge/!5225706/': <li class=\"date\" content=\"2015-09-04T19:16:00+01:00\" itemprop=\"datePublished\">4. 9. 2015</li>,\n",
       " 'https://taz.de/Hochschulzugang-fuer-Fluechtlinge/!5239440/': <li class=\"date\" content=\"2015-10-19T10:03:00+01:00\" itemprop=\"datePublished\">19. 10. 2015</li>,\n",
       " 'https://taz.de/Somalier-will-Klarheit/!5236411/': <li class=\"date\" content=\"2015-10-13T19:00:00+02:00\" itemprop=\"datePublished\">13. 10. 2015</li>,\n",
       " 'https://taz.de/Debatte-Pegida/!5022918/': <li class=\"date\" content=\"2015-01-25T12:45:00+02:00\" itemprop=\"datePublished\">25. 1. 2015</li>,\n",
       " 'https://taz.de/Fluechtlinge-im-Frauenhaus/!5207908/': <li class=\"date\" content=\"2015-07-01T13:18:00+01:00\" itemprop=\"datePublished\">1. 7. 2015</li>}"
      ]
     },
     "execution_count": 47,
     "metadata": {},
     "output_type": "execute_result"
    }
   ],
   "source": [
    "import requests\n",
    "import pandas as pd \n",
    "import urllib\n",
    "from bs4 import BeautifulSoup\n",
    "\n",
    "date_dict = {}\n",
    "art_dict_taz = {}\n",
    "x = ' '\n",
    "for link in links:\n",
    "    page = urllib.request.urlopen(link)\n",
    "    soup = BeautifulSoup(page)\n",
    "    t = soup.find(\"div\", {\"class\":\"main rack first_rack\"})\n",
    "    paras = t.findAll('p')\n",
    "    a = [p.text for p in paras]\n",
    "    d = soup.find(\"li\", {\"class\":\"date\"})\n",
    "    text = x.join(a)\n",
    "    date_dict[link] = d\n",
    "    art_dict_taz[link] = text\n",
    "    #print(text)\n",
    "    \n",
    "art_dict_taz\n",
    "date_dict\n"
   ]
  },
  {
   "cell_type": "code",
   "execution_count": 48,
   "id": "fixed-robert",
   "metadata": {},
   "outputs": [
    {
     "data": {
      "text/plain": [
       "{'https://taz.de/Kommunen-fordern-finanzielle-Hilfen/!5224892/': '2015-08-19T13:36:00+01:00',\n",
       " 'https://taz.de/Debatte-um-deutsche-Fluechtlingspolitik/!5237256/': '2015-10-09T19:51:00+01:00',\n",
       " 'https://taz.de/Mehr-Fluechtlinge-in-Deutschland/!5227827/': '2015-08-28T08:12:00+01:00',\n",
       " 'https://taz.de/Binnenfluechtlinge-in-der-Ukraine/!5214614/': '2015-07-24T16:28:00+01:00',\n",
       " 'https://taz.de/Doku-ueber-einen-Hamburger-Afghanen/!5013950/?goMobile2=1578528000052': '2015-04-06T12:00:00+02:00',\n",
       " 'https://taz.de/Protest-im-Knast-gegen-Abschiebung/!5216026/': '2015-08-17T18:13:00+02:00',\n",
       " 'https://taz.de/Versorgung-der-Fluechtlinge/!5225706/': '2015-09-04T19:16:00+01:00',\n",
       " 'https://taz.de/Hochschulzugang-fuer-Fluechtlinge/!5239440/': '2015-10-19T10:03:00+01:00',\n",
       " 'https://taz.de/Somalier-will-Klarheit/!5236411/': '2015-10-13T19:00:00+02:00',\n",
       " 'https://taz.de/Debatte-Pegida/!5022918/': '2015-01-25T12:45:00+02:00',\n",
       " 'https://taz.de/Fluechtlinge-im-Frauenhaus/!5207908/': '2015-07-01T13:18:00+01:00'}"
      ]
     },
     "execution_count": 48,
     "metadata": {},
     "output_type": "execute_result"
    }
   ],
   "source": [
    "#tag = date_dict.values()[0]\n",
    "#tag\n",
    "#tag.get(\"content\")\n",
    "\n",
    "for k, v in date_dict.items():\n",
    "    date_dict[k] = v.get('content')\n",
    "date_dict    "
   ]
  },
  {
   "cell_type": "code",
   "execution_count": 15,
   "id": "appreciated-presentation",
   "metadata": {},
   "outputs": [
    {
     "name": "stdout",
     "output_type": "stream",
     "text": [
      "„Geduldete Flüchtlinge“, erklärt die Hamburger Sparkasse, „können bei uns grundsätzlich ein Konto eröffnen“\n",
      "\n",
      "\n"
     ]
    }
   ],
   "source": [
    "#Does not work\n",
    "x = ' '\n",
    "for link in links_2:\n",
    "    page = urllib.request.urlopen(link)\n",
    "    soup = BeautifulSoup(page)\n",
    "    t = soup.find(\"div\", {\"class\":\"sectbody\"})\n",
    "    paras = t.findAll('p')\n",
    "    a = [p.text for p in paras]\n",
    "    text = x.join(a)\n",
    "    print(text)"
   ]
  },
  {
   "cell_type": "code",
   "execution_count": null,
   "id": "recovered-blind",
   "metadata": {},
   "outputs": [],
   "source": []
  }
 ],
 "metadata": {
  "kernelspec": {
   "display_name": "Python 3",
   "language": "python",
   "name": "python3"
  },
  "language_info": {
   "codemirror_mode": {
    "name": "ipython",
    "version": 3
   },
   "file_extension": ".py",
   "mimetype": "text/x-python",
   "name": "python",
   "nbconvert_exporter": "python",
   "pygments_lexer": "ipython3",
   "version": "3.7.6"
  }
 },
 "nbformat": 4,
 "nbformat_minor": 5
}
