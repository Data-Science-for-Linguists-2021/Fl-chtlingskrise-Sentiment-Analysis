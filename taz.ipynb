{
 "cells": [
  {
   "cell_type": "code",
   "execution_count": 20,
   "id": "blond-complement",
   "metadata": {},
   "outputs": [
    {
     "data": {
      "text/plain": [
       "11"
      ]
     },
     "execution_count": 20,
     "metadata": {},
     "output_type": "execute_result"
    }
   ],
   "source": [
    "#Manually compile a list of 100 links from Pitt accessed archive\n",
    "\n",
    "links = ['https://taz.de/Kommunen-fordern-finanzielle-Hilfen/!5224892/', 'https://taz.de/Debatte-um-deutsche-Fluechtlingspolitik/!5237256/', \n",
    "         'https://taz.de/Mehr-Fluechtlinge-in-Deutschland/!5227827/', 'https://taz.de/Binnenfluechtlinge-in-der-Ukraine/!5214614/',\n",
    "        'https://taz.de/Doku-ueber-einen-Hamburger-Afghanen/!5013950/?goMobile2=1578528000052', 'https://taz.de/Protest-im-Knast-gegen-Abschiebung/!5216026/',\n",
    "        'https://taz.de/Versorgung-der-Fluechtlinge/!5225706/', 'https://taz.de/Hochschulzugang-fuer-Fluechtlinge/!5239440/',\n",
    "        'https://taz.de/Somalier-will-Klarheit/!5236411/', 'https://taz.de/Debatte-Pegida/!5022918/', 'https://taz.de/Fluechtlinge-im-Frauenhaus/!5207908/',\n",
    "        ]\n",
    "\n",
    "links_2 = ['https://taz.de/!879575/', 'https://taz.de/Keine-Hinweise-auf-Fremdverschulden/!5235290/', 'https://taz.de/!238992/',\n",
    "          'https://taz.de/!5207596/', 'https://taz.de/Der-Faktor-Fluechtling/!5234778/', 'https://taz.de/Gefluechtete-in-Deutschland/!5222202&SuchRahmen=Print/',\n",
    "          'https://taz.de/Ich-freue-mich-auf-das-Baby/!5263761/', ]\n",
    "len(links)"
   ]
  },
  {
   "cell_type": "code",
   "execution_count": 47,
   "id": "accurate-doubt",
   "metadata": {},
   "outputs": [
    {
     "data": {
      "text/plain": [
       "{'https://taz.de/Kommunen-fordern-finanzielle-Hilfen/!5224892/': <li class=\"date\" content=\"2015-08-19T13:36:00+01:00\" itemprop=\"datePublished\">19. 8. 2015</li>,\n",
       " 'https://taz.de/Debatte-um-deutsche-Fluechtlingspolitik/!5237256/': <li class=\"date\" content=\"2015-10-09T19:51:00+01:00\" itemprop=\"datePublished\">9. 10. 2015</li>,\n",
       " 'https://taz.de/Mehr-Fluechtlinge-in-Deutschland/!5227827/': <li class=\"date\" content=\"2015-08-28T08:12:00+01:00\" itemprop=\"datePublished\">28. 8. 2015</li>,\n",
       " 'https://taz.de/Binnenfluechtlinge-in-der-Ukraine/!5214614/': <li class=\"date\" content=\"2015-07-24T16:28:00+01:00\" itemprop=\"datePublished\">24. 7. 2015</li>,\n",
       " 'https://taz.de/Doku-ueber-einen-Hamburger-Afghanen/!5013950/?goMobile2=1578528000052': <li class=\"date\" content=\"2015-04-06T12:00:00+02:00\" itemprop=\"datePublished\">6. 4. 2015</li>,\n",
       " 'https://taz.de/Protest-im-Knast-gegen-Abschiebung/!5216026/': <li class=\"date\" content=\"2015-08-17T18:13:00+02:00\" itemprop=\"datePublished\">17. 8. 2015</li>,\n",
       " 'https://taz.de/Versorgung-der-Fluechtlinge/!5225706/': <li class=\"date\" content=\"2015-09-04T19:16:00+01:00\" itemprop=\"datePublished\">4. 9. 2015</li>,\n",
       " 'https://taz.de/Hochschulzugang-fuer-Fluechtlinge/!5239440/': <li class=\"date\" content=\"2015-10-19T10:03:00+01:00\" itemprop=\"datePublished\">19. 10. 2015</li>,\n",
       " 'https://taz.de/Somalier-will-Klarheit/!5236411/': <li class=\"date\" content=\"2015-10-13T19:00:00+02:00\" itemprop=\"datePublished\">13. 10. 2015</li>,\n",
       " 'https://taz.de/Debatte-Pegida/!5022918/': <li class=\"date\" content=\"2015-01-25T12:45:00+02:00\" itemprop=\"datePublished\">25. 1. 2015</li>,\n",
       " 'https://taz.de/Fluechtlinge-im-Frauenhaus/!5207908/': <li class=\"date\" content=\"2015-07-01T13:18:00+01:00\" itemprop=\"datePublished\">1. 7. 2015</li>}"
      ]
     },
     "execution_count": 47,
     "metadata": {},
     "output_type": "execute_result"
    }
   ],
   "source": [
    "import requests\n",
    "import pandas as pd \n",
    "import urllib\n",
    "from bs4 import BeautifulSoup\n",
    "\n",
    "date_dict = {}\n",
    "art_dict_taz = {}\n",
    "x = ' '\n",
    "for link in links:\n",
    "    page = urllib.request.urlopen(link)\n",
    "    soup = BeautifulSoup(page)\n",
    "    t = soup.find(\"div\", {\"class\":\"main rack first_rack\"})\n",
    "    paras = t.findAll('p')\n",
    "    a = [p.text for p in paras]\n",
    "    d = soup.find(\"li\", {\"class\":\"date\"})\n",
    "    text = x.join(a)\n",
    "    date_dict[link] = d\n",
    "    art_dict_taz[link] = text\n",
    "    #print(text)\n",
    "    \n",
    "art_dict_taz\n",
    "date_dict\n"
   ]
  },
  {
   "cell_type": "code",
   "execution_count": 48,
   "id": "expensive-contact",
   "metadata": {},
   "outputs": [
    {
     "data": {
      "text/plain": [
       "{'https://taz.de/Kommunen-fordern-finanzielle-Hilfen/!5224892/': '2015-08-19T13:36:00+01:00',\n",
       " 'https://taz.de/Debatte-um-deutsche-Fluechtlingspolitik/!5237256/': '2015-10-09T19:51:00+01:00',\n",
       " 'https://taz.de/Mehr-Fluechtlinge-in-Deutschland/!5227827/': '2015-08-28T08:12:00+01:00',\n",
       " 'https://taz.de/Binnenfluechtlinge-in-der-Ukraine/!5214614/': '2015-07-24T16:28:00+01:00',\n",
       " 'https://taz.de/Doku-ueber-einen-Hamburger-Afghanen/!5013950/?goMobile2=1578528000052': '2015-04-06T12:00:00+02:00',\n",
       " 'https://taz.de/Protest-im-Knast-gegen-Abschiebung/!5216026/': '2015-08-17T18:13:00+02:00',\n",
       " 'https://taz.de/Versorgung-der-Fluechtlinge/!5225706/': '2015-09-04T19:16:00+01:00',\n",
       " 'https://taz.de/Hochschulzugang-fuer-Fluechtlinge/!5239440/': '2015-10-19T10:03:00+01:00',\n",
       " 'https://taz.de/Somalier-will-Klarheit/!5236411/': '2015-10-13T19:00:00+02:00',\n",
       " 'https://taz.de/Debatte-Pegida/!5022918/': '2015-01-25T12:45:00+02:00',\n",
       " 'https://taz.de/Fluechtlinge-im-Frauenhaus/!5207908/': '2015-07-01T13:18:00+01:00'}"
      ]
     },
     "execution_count": 48,
     "metadata": {},
     "output_type": "execute_result"
    }
   ],
   "source": [
    "#tag = date_dict.values()[0]\n",
    "#tag\n",
    "#tag.get(\"content\")\n",
    "\n",
    "for k, v in date_dict.items():\n",
    "    date_dict[k] = v.get('content')\n",
    "date_dict    "
   ]
  },
  {
   "cell_type": "code",
   "execution_count": 15,
   "id": "consolidated-watershed",
   "metadata": {},
   "outputs": [
    {
     "name": "stdout",
     "output_type": "stream",
     "text": [
      "„Geduldete Flüchtlinge“, erklärt die Hamburger Sparkasse, „können bei uns grundsätzlich ein Konto eröffnen“\n",
      "\n",
      "\n"
     ]
    }
   ],
   "source": [
    "#Does not work\n",
    "x = ' '\n",
    "for link in links_2:\n",
    "    page = urllib.request.urlopen(link)\n",
    "    soup = BeautifulSoup(page)\n",
    "    t = soup.find(\"div\", {\"class\":\"sectbody\"})\n",
    "    paras = t.findAll('p')\n",
    "    a = [p.text for p in paras]\n",
    "    text = x.join(a)\n",
    "    print(text)"
   ]
  },
  {
   "cell_type": "code",
   "execution_count": null,
   "id": "amazing-kingston",
   "metadata": {},
   "outputs": [],
   "source": []
  }
 ],
 "metadata": {
  "kernelspec": {
   "display_name": "Python 3",
   "language": "python",
   "name": "python3"
  },
  "language_info": {
   "codemirror_mode": {
    "name": "ipython",
    "version": 3
   },
   "file_extension": ".py",
   "mimetype": "text/x-python",
   "name": "python",
   "nbconvert_exporter": "python",
   "pygments_lexer": "ipython3",
   "version": "3.7.6"
  }
 },
 "nbformat": 4,
 "nbformat_minor": 5
}
