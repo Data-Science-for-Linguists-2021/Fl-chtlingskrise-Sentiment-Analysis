{
 "cells": [
  {
   "cell_type": "markdown",
   "id": "dress-window",
   "metadata": {},
   "source": [
    "## Flüchtlingskrise Sentiment Analysis\n",
    "### Emily Martin, eem80@pitt.edu"
   ]
  },
  {
   "cell_type": "code",
   "execution_count": 4,
   "id": "handy-command",
   "metadata": {},
   "outputs": [],
   "source": [
    "# Importing necessary libraries\n",
    "import pandas as pd\n",
    "import pickle\n",
    "import nltk"
   ]
  },
  {
   "cell_type": "markdown",
   "id": "crazy-injection",
   "metadata": {},
   "source": [
    "## The data\n",
    "#### Shape and acquisition\n",
    "- Using the four scripts in my repo: [Süddeutsche_zeitung](https://github.com/Data-Science-for-Linguists-2021/Fluechtlingskrise-Sentiment-Analysis/blob/main/Süddeutsche_zeitung.ipynb), [taz](https://github.com/Data-Science-for-Linguists-2021/Fluechtlingskrise-Sentiment-Analysis/blob/main/taz.ipynb), [zeit](https://github.com/Data-Science-for-Linguists-2021/Fluechtlingskrise-Sentiment-Analysis/blob/main/zeit.ipynb) and [Junge Freiheit](https://github.com/Data-Science-for-Linguists-2021/Fluechtlingskrise-Sentiment-Analysis/blob/main/Junge%20Freiheit.ipynb) I was able to scrape the sites for news articles from 2015 using the search terms 'Flüchtling' (refugee) and/or 'Migranten' (migrants). \n",
    "- The actual number of articles varies widely per site because of ease of scraping and simply overall newspaper size. For Die TAZ there are 100 articles, from manually compiled links, for  Der Zeit there are 573, from links collected through their API, for Der Süddeutsche Zeitung there are 982 and for Junge Freiheit there are 60. \n",
    "- After collecting these articles in the scripts I made them into dataframes which I then pickled. However these pickled files are not available through my repo due to copywrite.\n",
    "\n",
    "### A quick look at each source"
   ]
  },
  {
   "cell_type": "markdown",
   "id": "sunset-donor",
   "metadata": {},
   "source": [
    "#### Der Zeit\n",
    "- Der Zeit is one of the largest weekly newspapers in Germany, it is centrist/liberal in its political leanings and kindly supports an API."
   ]
  },
  {
   "cell_type": "code",
   "execution_count": 18,
   "id": "fancy-computer",
   "metadata": {},
   "outputs": [
    {
     "name": "stdout",
     "output_type": "stream",
     "text": [
      "(573, 5)\n"
     ]
    },
    {
     "data": {
      "text/html": [
       "<div>\n",
       "<style scoped>\n",
       "    .dataframe tbody tr th:only-of-type {\n",
       "        vertical-align: middle;\n",
       "    }\n",
       "\n",
       "    .dataframe tbody tr th {\n",
       "        vertical-align: top;\n",
       "    }\n",
       "\n",
       "    .dataframe thead th {\n",
       "        text-align: right;\n",
       "    }\n",
       "</style>\n",
       "<table border=\"1\" class=\"dataframe\">\n",
       "  <thead>\n",
       "    <tr style=\"text-align: right;\">\n",
       "      <th></th>\n",
       "      <th>title</th>\n",
       "      <th>href</th>\n",
       "      <th>text</th>\n",
       "      <th>release_date</th>\n",
       "      <th>word_count</th>\n",
       "    </tr>\n",
       "  </thead>\n",
       "  <tbody>\n",
       "    <tr>\n",
       "      <th>0</th>\n",
       "      <td>Mahmood im Schilderwald</td>\n",
       "      <td>http://www.zeit.de/2015/51/fuehrerschein-fluec...</td>\n",
       "      <td>Als er vor über zehn Jahren Autofahren gelernt...</td>\n",
       "      <td>2015-12-31T02:51:37Z</td>\n",
       "      <td>1175</td>\n",
       "    </tr>\n",
       "    <tr>\n",
       "      <th>1</th>\n",
       "      <td>Zwei zähe Einzelgänger</td>\n",
       "      <td>http://www.zeit.de/2015/51/vorbereitung-auf-da...</td>\n",
       "      <td>Wo Zou Lei herkommt, ist das Leben nicht leich...</td>\n",
       "      <td>2015-12-31T01:56:01Z</td>\n",
       "      <td>1125</td>\n",
       "    </tr>\n",
       "    <tr>\n",
       "      <th>2</th>\n",
       "      <td>Fortsetzung folgt – jetzt</td>\n",
       "      <td>http://www.zeit.de/2016/01/geschichten-2015-fo...</td>\n",
       "      <td>Lok Leipzig ist ratlos, was aus Mario Basler w...</td>\n",
       "      <td>2015-12-30T09:00:08Z</td>\n",
       "      <td>313</td>\n",
       "    </tr>\n",
       "    <tr>\n",
       "      <th>3</th>\n",
       "      <td>Anhaltend hohe Flüchtlingszahlen auf Balkanroute</td>\n",
       "      <td>http://www.zeit.de/gesellschaft/2015-12/slowen...</td>\n",
       "      <td>Auch zum Jahresende kommen weiter täglich Taus...</td>\n",
       "      <td>2015-12-29T22:14:02Z</td>\n",
       "      <td>362</td>\n",
       "    </tr>\n",
       "    <tr>\n",
       "      <th>4</th>\n",
       "      <td>Laut Özoğuz schürt Union Vorurteile gegen Flüc...</td>\n",
       "      <td>http://www.zeit.de/politik/deutschland/2015-12...</td>\n",
       "      <td>Opposition und Koalitionspartner kritisieren d...</td>\n",
       "      <td>2015-12-29T08:24:55Z</td>\n",
       "      <td>379</td>\n",
       "    </tr>\n",
       "  </tbody>\n",
       "</table>\n",
       "</div>"
      ],
      "text/plain": [
       "                                               title  \\\n",
       "0                            Mahmood im Schilderwald   \n",
       "1                             Zwei zähe Einzelgänger   \n",
       "2                          Fortsetzung folgt – jetzt   \n",
       "3   Anhaltend hohe Flüchtlingszahlen auf Balkanroute   \n",
       "4  Laut Özoğuz schürt Union Vorurteile gegen Flüc...   \n",
       "\n",
       "                                                href  \\\n",
       "0  http://www.zeit.de/2015/51/fuehrerschein-fluec...   \n",
       "1  http://www.zeit.de/2015/51/vorbereitung-auf-da...   \n",
       "2  http://www.zeit.de/2016/01/geschichten-2015-fo...   \n",
       "3  http://www.zeit.de/gesellschaft/2015-12/slowen...   \n",
       "4  http://www.zeit.de/politik/deutschland/2015-12...   \n",
       "\n",
       "                                                text          release_date  \\\n",
       "0  Als er vor über zehn Jahren Autofahren gelernt...  2015-12-31T02:51:37Z   \n",
       "1  Wo Zou Lei herkommt, ist das Leben nicht leich...  2015-12-31T01:56:01Z   \n",
       "2  Lok Leipzig ist ratlos, was aus Mario Basler w...  2015-12-30T09:00:08Z   \n",
       "3  Auch zum Jahresende kommen weiter täglich Taus...  2015-12-29T22:14:02Z   \n",
       "4  Opposition und Koalitionspartner kritisieren d...  2015-12-29T08:24:55Z   \n",
       "\n",
       "   word_count  \n",
       "0        1175  \n",
       "1        1125  \n",
       "2         313  \n",
       "3         362  \n",
       "4         379  "
      ]
     },
     "execution_count": 18,
     "metadata": {},
     "output_type": "execute_result"
    }
   ],
   "source": [
    "# Unpickle the dataframes\n",
    "zeit_df = pd.read_pickle(\"zeit_df.pkl\")\n",
    "\n",
    "print(zeit_df.shape)\n",
    "zeit_df.head()"
   ]
  },
  {
   "cell_type": "code",
   "execution_count": 16,
   "id": "electoral-herald",
   "metadata": {},
   "outputs": [
    {
     "name": "stdout",
     "output_type": "stream",
     "text": [
      "<class 'pandas.core.frame.DataFrame'>\n",
      "RangeIndex: 573 entries, 0 to 572\n",
      "Data columns (total 5 columns):\n",
      " #   Column        Non-Null Count  Dtype \n",
      "---  ------        --------------  ----- \n",
      " 0   title         573 non-null    object\n",
      " 1   href          573 non-null    object\n",
      " 2   text          573 non-null    object\n",
      " 3   release_date  573 non-null    object\n",
      " 4   word_count    573 non-null    int64 \n",
      "dtypes: int64(1), object(4)\n",
      "memory usage: 22.5+ KB\n"
     ]
    }
   ],
   "source": [
    "# A little about this dataframe:\n",
    "zeit_df.info()"
   ]
  },
  {
   "cell_type": "code",
   "execution_count": 31,
   "id": "professional-panama",
   "metadata": {},
   "outputs": [
    {
     "data": {
      "text/html": [
       "<div>\n",
       "<style scoped>\n",
       "    .dataframe tbody tr th:only-of-type {\n",
       "        vertical-align: middle;\n",
       "    }\n",
       "\n",
       "    .dataframe tbody tr th {\n",
       "        vertical-align: top;\n",
       "    }\n",
       "\n",
       "    .dataframe thead th {\n",
       "        text-align: right;\n",
       "    }\n",
       "</style>\n",
       "<table border=\"1\" class=\"dataframe\">\n",
       "  <thead>\n",
       "    <tr style=\"text-align: right;\">\n",
       "      <th></th>\n",
       "      <th>word_count</th>\n",
       "    </tr>\n",
       "  </thead>\n",
       "  <tbody>\n",
       "    <tr>\n",
       "      <th>count</th>\n",
       "      <td>573.000000</td>\n",
       "    </tr>\n",
       "    <tr>\n",
       "      <th>mean</th>\n",
       "      <td>562.750436</td>\n",
       "    </tr>\n",
       "    <tr>\n",
       "      <th>std</th>\n",
       "      <td>237.382328</td>\n",
       "    </tr>\n",
       "    <tr>\n",
       "      <th>min</th>\n",
       "      <td>1.000000</td>\n",
       "    </tr>\n",
       "    <tr>\n",
       "      <th>25%</th>\n",
       "      <td>384.000000</td>\n",
       "    </tr>\n",
       "    <tr>\n",
       "      <th>50%</th>\n",
       "      <td>551.000000</td>\n",
       "    </tr>\n",
       "    <tr>\n",
       "      <th>75%</th>\n",
       "      <td>697.000000</td>\n",
       "    </tr>\n",
       "    <tr>\n",
       "      <th>max</th>\n",
       "      <td>1945.000000</td>\n",
       "    </tr>\n",
       "  </tbody>\n",
       "</table>\n",
       "</div>"
      ],
      "text/plain": [
       "        word_count\n",
       "count   573.000000\n",
       "mean    562.750436\n",
       "std     237.382328\n",
       "min       1.000000\n",
       "25%     384.000000\n",
       "50%     551.000000\n",
       "75%     697.000000\n",
       "max    1945.000000"
      ]
     },
     "execution_count": 31,
     "metadata": {},
     "output_type": "execute_result"
    }
   ],
   "source": [
    "zeit_df.describe()\n",
    "# min of 1, there is at least one article where the link was broken"
   ]
  },
  {
   "cell_type": "markdown",
   "id": "innovative-armor",
   "metadata": {},
   "source": [
    "### Die TAZ\n",
    "-  Die TAZ (Die Tageszeitung) is a daily German newspaper with a modest circulation, it leans left-wing/green and is the most left-ist of the sources. "
   ]
  },
  {
   "cell_type": "code",
   "execution_count": 19,
   "id": "characteristic-bedroom",
   "metadata": {},
   "outputs": [
    {
     "name": "stdout",
     "output_type": "stream",
     "text": [
      "(100, 4)\n"
     ]
    },
    {
     "data": {
      "text/html": [
       "<div>\n",
       "<style scoped>\n",
       "    .dataframe tbody tr th:only-of-type {\n",
       "        vertical-align: middle;\n",
       "    }\n",
       "\n",
       "    .dataframe tbody tr th {\n",
       "        vertical-align: top;\n",
       "    }\n",
       "\n",
       "    .dataframe thead th {\n",
       "        text-align: right;\n",
       "    }\n",
       "</style>\n",
       "<table border=\"1\" class=\"dataframe\">\n",
       "  <thead>\n",
       "    <tr style=\"text-align: right;\">\n",
       "      <th></th>\n",
       "      <th>href</th>\n",
       "      <th>text</th>\n",
       "      <th>word_count</th>\n",
       "      <th>date</th>\n",
       "    </tr>\n",
       "  </thead>\n",
       "  <tbody>\n",
       "    <tr>\n",
       "      <th>0</th>\n",
       "      <td>https://taz.de/Essay-Journalismus-und-Zuwander...</td>\n",
       "      <td>Deutschland hat sich verändert. Die Redaktione...</td>\n",
       "      <td>1232</td>\n",
       "      <td>2015-12-31</td>\n",
       "    </tr>\n",
       "    <tr>\n",
       "      <th>1</th>\n",
       "      <td>https://taz.de/Fluechtlingsdebatte-in-den-USA/...</td>\n",
       "      <td>Nach den Anschlägen von Paris wollen nur noch ...</td>\n",
       "      <td>786</td>\n",
       "      <td>2015-11-17</td>\n",
       "    </tr>\n",
       "    <tr>\n",
       "      <th>2</th>\n",
       "      <td>https://taz.de/Kommentar-Verfassungsschutz/!50...</td>\n",
       "      <td>Die Reform des V-Leute-Wesens ist eine Charmeo...</td>\n",
       "      <td>266</td>\n",
       "      <td>2015-03-25</td>\n",
       "    </tr>\n",
       "    <tr>\n",
       "      <th>3</th>\n",
       "      <td>https://taz.de/NPD-Invasion-in-Fluechtlingsunt...</td>\n",
       "      <td>NPD-Landtagsabgeordnete besuchten eine Erstauf...</td>\n",
       "      <td>561</td>\n",
       "      <td>2015-09-28</td>\n",
       "    </tr>\n",
       "    <tr>\n",
       "      <th>4</th>\n",
       "      <td>https://taz.de/Misshandlung-von-Fluechtlingen-...</td>\n",
       "      <td>Per Referendum will Premier Orbán rechtswidrig...</td>\n",
       "      <td>471</td>\n",
       "      <td>2015-04-28</td>\n",
       "    </tr>\n",
       "  </tbody>\n",
       "</table>\n",
       "</div>"
      ],
      "text/plain": [
       "                                                href  \\\n",
       "0  https://taz.de/Essay-Journalismus-und-Zuwander...   \n",
       "1  https://taz.de/Fluechtlingsdebatte-in-den-USA/...   \n",
       "2  https://taz.de/Kommentar-Verfassungsschutz/!50...   \n",
       "3  https://taz.de/NPD-Invasion-in-Fluechtlingsunt...   \n",
       "4  https://taz.de/Misshandlung-von-Fluechtlingen-...   \n",
       "\n",
       "                                                text  word_count        date  \n",
       "0  Deutschland hat sich verändert. Die Redaktione...        1232  2015-12-31  \n",
       "1  Nach den Anschlägen von Paris wollen nur noch ...         786  2015-11-17  \n",
       "2  Die Reform des V-Leute-Wesens ist eine Charmeo...         266  2015-03-25  \n",
       "3  NPD-Landtagsabgeordnete besuchten eine Erstauf...         561  2015-09-28  \n",
       "4  Per Referendum will Premier Orbán rechtswidrig...         471  2015-04-28  "
      ]
     },
     "execution_count": 19,
     "metadata": {},
     "output_type": "execute_result"
    }
   ],
   "source": [
    "# Unpickle and a quick look at the dataframe\n",
    "taz_df = pd.read_pickle(\"taz_df.pkl\")\n",
    "print(taz_df.shape)\n",
    "taz_df.head()"
   ]
  },
  {
   "cell_type": "code",
   "execution_count": 20,
   "id": "latest-penguin",
   "metadata": {},
   "outputs": [
    {
     "name": "stdout",
     "output_type": "stream",
     "text": [
      "<class 'pandas.core.frame.DataFrame'>\n",
      "RangeIndex: 100 entries, 0 to 99\n",
      "Data columns (total 4 columns):\n",
      " #   Column      Non-Null Count  Dtype \n",
      "---  ------      --------------  ----- \n",
      " 0   href        100 non-null    object\n",
      " 1   text        100 non-null    object\n",
      " 2   word_count  100 non-null    int64 \n",
      " 3   date        100 non-null    object\n",
      "dtypes: int64(1), object(3)\n",
      "memory usage: 3.2+ KB\n"
     ]
    }
   ],
   "source": [
    "taz_df.info()"
   ]
  },
  {
   "cell_type": "code",
   "execution_count": 21,
   "id": "married-mentor",
   "metadata": {},
   "outputs": [
    {
     "data": {
      "text/html": [
       "<div>\n",
       "<style scoped>\n",
       "    .dataframe tbody tr th:only-of-type {\n",
       "        vertical-align: middle;\n",
       "    }\n",
       "\n",
       "    .dataframe tbody tr th {\n",
       "        vertical-align: top;\n",
       "    }\n",
       "\n",
       "    .dataframe thead th {\n",
       "        text-align: right;\n",
       "    }\n",
       "</style>\n",
       "<table border=\"1\" class=\"dataframe\">\n",
       "  <thead>\n",
       "    <tr style=\"text-align: right;\">\n",
       "      <th></th>\n",
       "      <th>word_count</th>\n",
       "    </tr>\n",
       "  </thead>\n",
       "  <tbody>\n",
       "    <tr>\n",
       "      <th>count</th>\n",
       "      <td>100.000000</td>\n",
       "    </tr>\n",
       "    <tr>\n",
       "      <th>mean</th>\n",
       "      <td>799.430000</td>\n",
       "    </tr>\n",
       "    <tr>\n",
       "      <th>std</th>\n",
       "      <td>458.021332</td>\n",
       "    </tr>\n",
       "    <tr>\n",
       "      <th>min</th>\n",
       "      <td>209.000000</td>\n",
       "    </tr>\n",
       "    <tr>\n",
       "      <th>25%</th>\n",
       "      <td>495.000000</td>\n",
       "    </tr>\n",
       "    <tr>\n",
       "      <th>50%</th>\n",
       "      <td>674.000000</td>\n",
       "    </tr>\n",
       "    <tr>\n",
       "      <th>75%</th>\n",
       "      <td>948.000000</td>\n",
       "    </tr>\n",
       "    <tr>\n",
       "      <th>max</th>\n",
       "      <td>2846.000000</td>\n",
       "    </tr>\n",
       "  </tbody>\n",
       "</table>\n",
       "</div>"
      ],
      "text/plain": [
       "        word_count\n",
       "count   100.000000\n",
       "mean    799.430000\n",
       "std     458.021332\n",
       "min     209.000000\n",
       "25%     495.000000\n",
       "50%     674.000000\n",
       "75%     948.000000\n",
       "max    2846.000000"
      ]
     },
     "execution_count": 21,
     "metadata": {},
     "output_type": "execute_result"
    }
   ],
   "source": [
    "taz_df.describe()\n",
    "# No broken links/problem areas"
   ]
  },
  {
   "cell_type": "markdown",
   "id": "twenty-space",
   "metadata": {},
   "source": [
    "### Der Süddeutsche Zeitung\n",
    "- Der Süddeustche Zeitung is a daily newspaper with a very wide ciruclation (second largest after Der Zeit), it leans left-liberal."
   ]
  },
  {
   "cell_type": "code",
   "execution_count": 22,
   "id": "intense-companion",
   "metadata": {},
   "outputs": [
    {
     "name": "stdout",
     "output_type": "stream",
     "text": [
      "(1000, 4)\n"
     ]
    },
    {
     "data": {
      "text/html": [
       "<div>\n",
       "<style scoped>\n",
       "    .dataframe tbody tr th:only-of-type {\n",
       "        vertical-align: middle;\n",
       "    }\n",
       "\n",
       "    .dataframe tbody tr th {\n",
       "        vertical-align: top;\n",
       "    }\n",
       "\n",
       "    .dataframe thead th {\n",
       "        text-align: right;\n",
       "    }\n",
       "</style>\n",
       "<table border=\"1\" class=\"dataframe\">\n",
       "  <thead>\n",
       "    <tr style=\"text-align: right;\">\n",
       "      <th></th>\n",
       "      <th>href</th>\n",
       "      <th>text</th>\n",
       "      <th>word_count</th>\n",
       "      <th>date</th>\n",
       "    </tr>\n",
       "  </thead>\n",
       "  <tbody>\n",
       "    <tr>\n",
       "      <th>0</th>\n",
       "      <td>https://www.sueddeutsche.de/politik/migration-...</td>\n",
       "      <td>Berlin (dpa) - Die Bundesländer haben für die ...</td>\n",
       "      <td>89</td>\n",
       "      <td>27. Dezember 2015, 2:45 Uhr</td>\n",
       "    </tr>\n",
       "    <tr>\n",
       "      <th>1</th>\n",
       "      <td>https://www.sueddeutsche.de/politik/migration-...</td>\n",
       "      <td>Rom (dpa) - Im Mittelmeer vor Italien sind auc...</td>\n",
       "      <td>62</td>\n",
       "      <td>26. Dezember 2015, 20:51 Uhr</td>\n",
       "    </tr>\n",
       "    <tr>\n",
       "      <th>2</th>\n",
       "      <td>https://www.sueddeutsche.de/kultur/rueckblick-...</td>\n",
       "      <td>1 / 12 Quelle: 20th Century Fox Südseefilme si...</td>\n",
       "      <td>1818</td>\n",
       "      <td>26. Dezember 2015, 17:57 Uhr</td>\n",
       "    </tr>\n",
       "    <tr>\n",
       "      <th>3</th>\n",
       "      <td>https://www.sueddeutsche.de/politik/rueckblick...</td>\n",
       "      <td>Bei dem Blick zurück auf das Jahr 2015 stechen...</td>\n",
       "      <td>451</td>\n",
       "      <td>26. Dezember 2015, 16:00 Uhr</td>\n",
       "    </tr>\n",
       "    <tr>\n",
       "      <th>4</th>\n",
       "      <td>https://www.sueddeutsche.de/politik/fluechtlin...</td>\n",
       "      <td>Nach einem Brandanschlag auf eine noch nicht f...</td>\n",
       "      <td>387</td>\n",
       "      <td>26. Dezember 2015, 15:43 Uhr</td>\n",
       "    </tr>\n",
       "  </tbody>\n",
       "</table>\n",
       "</div>"
      ],
      "text/plain": [
       "                                                href  \\\n",
       "0  https://www.sueddeutsche.de/politik/migration-...   \n",
       "1  https://www.sueddeutsche.de/politik/migration-...   \n",
       "2  https://www.sueddeutsche.de/kultur/rueckblick-...   \n",
       "3  https://www.sueddeutsche.de/politik/rueckblick...   \n",
       "4  https://www.sueddeutsche.de/politik/fluechtlin...   \n",
       "\n",
       "                                                text  word_count  \\\n",
       "0  Berlin (dpa) - Die Bundesländer haben für die ...          89   \n",
       "1  Rom (dpa) - Im Mittelmeer vor Italien sind auc...          62   \n",
       "2  1 / 12 Quelle: 20th Century Fox Südseefilme si...        1818   \n",
       "3  Bei dem Blick zurück auf das Jahr 2015 stechen...         451   \n",
       "4  Nach einem Brandanschlag auf eine noch nicht f...         387   \n",
       "\n",
       "                           date  \n",
       "0   27. Dezember 2015, 2:45 Uhr  \n",
       "1  26. Dezember 2015, 20:51 Uhr  \n",
       "2  26. Dezember 2015, 17:57 Uhr  \n",
       "3  26. Dezember 2015, 16:00 Uhr  \n",
       "4  26. Dezember 2015, 15:43 Uhr  "
      ]
     },
     "execution_count": 22,
     "metadata": {},
     "output_type": "execute_result"
    }
   ],
   "source": [
    "# Unpickle and aa quick look at the data\n",
    "sz_df = pd.read_pickle(\"sz_df.pkl\")\n",
    "print(sz_df.shape)\n",
    "sz_df.head()"
   ]
  },
  {
   "cell_type": "code",
   "execution_count": 30,
   "id": "round-median",
   "metadata": {},
   "outputs": [
    {
     "name": "stdout",
     "output_type": "stream",
     "text": [
      "<class 'pandas.core.frame.DataFrame'>\n",
      "RangeIndex: 1000 entries, 0 to 999\n",
      "Data columns (total 4 columns):\n",
      " #   Column      Non-Null Count  Dtype \n",
      "---  ------      --------------  ----- \n",
      " 0   href        1000 non-null   object\n",
      " 1   text        1000 non-null   object\n",
      " 2   word_count  1000 non-null   int64 \n",
      " 3   date        982 non-null    object\n",
      "dtypes: int64(1), object(3)\n",
      "memory usage: 31.4+ KB\n"
     ]
    }
   ],
   "source": [
    "sz_df.info()"
   ]
  },
  {
   "cell_type": "code",
   "execution_count": 24,
   "id": "standing-immigration",
   "metadata": {},
   "outputs": [
    {
     "data": {
      "text/html": [
       "<div>\n",
       "<style scoped>\n",
       "    .dataframe tbody tr th:only-of-type {\n",
       "        vertical-align: middle;\n",
       "    }\n",
       "\n",
       "    .dataframe tbody tr th {\n",
       "        vertical-align: top;\n",
       "    }\n",
       "\n",
       "    .dataframe thead th {\n",
       "        text-align: right;\n",
       "    }\n",
       "</style>\n",
       "<table border=\"1\" class=\"dataframe\">\n",
       "  <thead>\n",
       "    <tr style=\"text-align: right;\">\n",
       "      <th></th>\n",
       "      <th>word_count</th>\n",
       "    </tr>\n",
       "  </thead>\n",
       "  <tbody>\n",
       "    <tr>\n",
       "      <th>count</th>\n",
       "      <td>1000.000000</td>\n",
       "    </tr>\n",
       "    <tr>\n",
       "      <th>mean</th>\n",
       "      <td>368.440000</td>\n",
       "    </tr>\n",
       "    <tr>\n",
       "      <th>std</th>\n",
       "      <td>282.050192</td>\n",
       "    </tr>\n",
       "    <tr>\n",
       "      <th>min</th>\n",
       "      <td>1.000000</td>\n",
       "    </tr>\n",
       "    <tr>\n",
       "      <th>25%</th>\n",
       "      <td>119.000000</td>\n",
       "    </tr>\n",
       "    <tr>\n",
       "      <th>50%</th>\n",
       "      <td>331.500000</td>\n",
       "    </tr>\n",
       "    <tr>\n",
       "      <th>75%</th>\n",
       "      <td>532.250000</td>\n",
       "    </tr>\n",
       "    <tr>\n",
       "      <th>max</th>\n",
       "      <td>2402.000000</td>\n",
       "    </tr>\n",
       "  </tbody>\n",
       "</table>\n",
       "</div>"
      ],
      "text/plain": [
       "        word_count\n",
       "count  1000.000000\n",
       "mean    368.440000\n",
       "std     282.050192\n",
       "min       1.000000\n",
       "25%     119.000000\n",
       "50%     331.500000\n",
       "75%     532.250000\n",
       "max    2402.000000"
      ]
     },
     "execution_count": 24,
     "metadata": {},
     "output_type": "execute_result"
    }
   ],
   "source": [
    "sz_df.describe()\n",
    "# There were 18 broken links\n",
    "# Fairly short articles"
   ]
  },
  {
   "cell_type": "markdown",
   "id": "cathedral-direction",
   "metadata": {},
   "source": [
    "### Junge Freiheit\n",
    "-  Junge Freiheit is a small weekly newspaper with fairly strong right-wing leanings"
   ]
  },
  {
   "cell_type": "code",
   "execution_count": 32,
   "id": "current-malaysia",
   "metadata": {},
   "outputs": [
    {
     "name": "stdout",
     "output_type": "stream",
     "text": [
      "(60, 4)\n"
     ]
    },
    {
     "data": {
      "text/html": [
       "<div>\n",
       "<style scoped>\n",
       "    .dataframe tbody tr th:only-of-type {\n",
       "        vertical-align: middle;\n",
       "    }\n",
       "\n",
       "    .dataframe tbody tr th {\n",
       "        vertical-align: top;\n",
       "    }\n",
       "\n",
       "    .dataframe thead th {\n",
       "        text-align: right;\n",
       "    }\n",
       "</style>\n",
       "<table border=\"1\" class=\"dataframe\">\n",
       "  <thead>\n",
       "    <tr style=\"text-align: right;\">\n",
       "      <th></th>\n",
       "      <th>href</th>\n",
       "      <th>text</th>\n",
       "      <th>word_count</th>\n",
       "      <th>date</th>\n",
       "    </tr>\n",
       "  </thead>\n",
       "  <tbody>\n",
       "    <tr>\n",
       "      <th>0</th>\n",
       "      <td>https://jungefreiheit.de/politik/deutschland/2...</td>\n",
       "      <td>POTSDAM. Brandenburgs AfD-Chef Alexander Gaula...</td>\n",
       "      <td>385</td>\n",
       "      <td>18. November 2015</td>\n",
       "    </tr>\n",
       "    <tr>\n",
       "      <th>1</th>\n",
       "      <td>https://jungefreiheit.de/debatte/kommentar/201...</td>\n",
       "      <td>Die Norwegerin Linda Hagen ist immer noch ganz...</td>\n",
       "      <td>171</td>\n",
       "      <td>05. November 2015</td>\n",
       "    </tr>\n",
       "    <tr>\n",
       "      <th>2</th>\n",
       "      <td>https://jungefreiheit.de/politik/deutschland/2...</td>\n",
       "      <td>ERFURT. Asylbewerber, die mit der Deutschen Ba...</td>\n",
       "      <td>191</td>\n",
       "      <td>04. November 2015</td>\n",
       "    </tr>\n",
       "    <tr>\n",
       "      <th>3</th>\n",
       "      <td>https://jungefreiheit.de/politik/ausland/2015/...</td>\n",
       "      <td>TRIPOLIS. Der libysche „Allgemeine Volkskongre...</td>\n",
       "      <td>262</td>\n",
       "      <td>04. November 2015</td>\n",
       "    </tr>\n",
       "    <tr>\n",
       "      <th>4</th>\n",
       "      <td>https://jungefreiheit.de/politik/deutschland/2...</td>\n",
       "      <td>Dreizehn Regierungschefs beschließen auf einem...</td>\n",
       "      <td>729</td>\n",
       "      <td>01. November 2015</td>\n",
       "    </tr>\n",
       "  </tbody>\n",
       "</table>\n",
       "</div>"
      ],
      "text/plain": [
       "                                                href  \\\n",
       "0  https://jungefreiheit.de/politik/deutschland/2...   \n",
       "1  https://jungefreiheit.de/debatte/kommentar/201...   \n",
       "2  https://jungefreiheit.de/politik/deutschland/2...   \n",
       "3  https://jungefreiheit.de/politik/ausland/2015/...   \n",
       "4  https://jungefreiheit.de/politik/deutschland/2...   \n",
       "\n",
       "                                                text  word_count  \\\n",
       "0  POTSDAM. Brandenburgs AfD-Chef Alexander Gaula...         385   \n",
       "1  Die Norwegerin Linda Hagen ist immer noch ganz...         171   \n",
       "2  ERFURT. Asylbewerber, die mit der Deutschen Ba...         191   \n",
       "3  TRIPOLIS. Der libysche „Allgemeine Volkskongre...         262   \n",
       "4  Dreizehn Regierungschefs beschließen auf einem...         729   \n",
       "\n",
       "                date  \n",
       "0  18. November 2015  \n",
       "1  05. November 2015  \n",
       "2  04. November 2015  \n",
       "3  04. November 2015  \n",
       "4  01. November 2015  "
      ]
     },
     "execution_count": 32,
     "metadata": {},
     "output_type": "execute_result"
    }
   ],
   "source": [
    "# Unpickle and a quick look at the data\n",
    "jf_df = pd.read_pickle(\"jf_df.pkl\")\n",
    "print(jf_df.shape) # This is the smallest sample\n",
    "jf_df.head()"
   ]
  },
  {
   "cell_type": "code",
   "execution_count": 33,
   "id": "spread-claim",
   "metadata": {},
   "outputs": [
    {
     "name": "stdout",
     "output_type": "stream",
     "text": [
      "<class 'pandas.core.frame.DataFrame'>\n",
      "RangeIndex: 60 entries, 0 to 59\n",
      "Data columns (total 4 columns):\n",
      " #   Column      Non-Null Count  Dtype \n",
      "---  ------      --------------  ----- \n",
      " 0   href        60 non-null     object\n",
      " 1   text        60 non-null     object\n",
      " 2   word_count  60 non-null     int64 \n",
      " 3   date        60 non-null     object\n",
      "dtypes: int64(1), object(3)\n",
      "memory usage: 2.0+ KB\n"
     ]
    }
   ],
   "source": [
    "jf_df.info()\n",
    "# All non-null, which is good. Can't really afford to lose more articles from this source"
   ]
  },
  {
   "cell_type": "code",
   "execution_count": 34,
   "id": "blond-ottawa",
   "metadata": {},
   "outputs": [
    {
     "data": {
      "text/html": [
       "<div>\n",
       "<style scoped>\n",
       "    .dataframe tbody tr th:only-of-type {\n",
       "        vertical-align: middle;\n",
       "    }\n",
       "\n",
       "    .dataframe tbody tr th {\n",
       "        vertical-align: top;\n",
       "    }\n",
       "\n",
       "    .dataframe thead th {\n",
       "        text-align: right;\n",
       "    }\n",
       "</style>\n",
       "<table border=\"1\" class=\"dataframe\">\n",
       "  <thead>\n",
       "    <tr style=\"text-align: right;\">\n",
       "      <th></th>\n",
       "      <th>word_count</th>\n",
       "    </tr>\n",
       "  </thead>\n",
       "  <tbody>\n",
       "    <tr>\n",
       "      <th>count</th>\n",
       "      <td>60.000000</td>\n",
       "    </tr>\n",
       "    <tr>\n",
       "      <th>mean</th>\n",
       "      <td>461.666667</td>\n",
       "    </tr>\n",
       "    <tr>\n",
       "      <th>std</th>\n",
       "      <td>323.277373</td>\n",
       "    </tr>\n",
       "    <tr>\n",
       "      <th>min</th>\n",
       "      <td>126.000000</td>\n",
       "    </tr>\n",
       "    <tr>\n",
       "      <th>25%</th>\n",
       "      <td>195.250000</td>\n",
       "    </tr>\n",
       "    <tr>\n",
       "      <th>50%</th>\n",
       "      <td>356.000000</td>\n",
       "    </tr>\n",
       "    <tr>\n",
       "      <th>75%</th>\n",
       "      <td>732.750000</td>\n",
       "    </tr>\n",
       "    <tr>\n",
       "      <th>max</th>\n",
       "      <td>1348.000000</td>\n",
       "    </tr>\n",
       "  </tbody>\n",
       "</table>\n",
       "</div>"
      ],
      "text/plain": [
       "        word_count\n",
       "count    60.000000\n",
       "mean    461.666667\n",
       "std     323.277373\n",
       "min     126.000000\n",
       "25%     195.250000\n",
       "50%     356.000000\n",
       "75%     732.750000\n",
       "max    1348.000000"
      ]
     },
     "execution_count": 34,
     "metadata": {},
     "output_type": "execute_result"
    }
   ],
   "source": [
    "jf_df.describe()"
   ]
  },
  {
   "cell_type": "markdown",
   "id": "premium-reception",
   "metadata": {},
   "source": [
    "## Sentiment Analysis"
   ]
  },
  {
   "cell_type": "code",
   "execution_count": null,
   "id": "domestic-monaco",
   "metadata": {},
   "outputs": [],
   "source": []
  }
 ],
 "metadata": {
  "kernelspec": {
   "display_name": "Python 3",
   "language": "python",
   "name": "python3"
  },
  "language_info": {
   "codemirror_mode": {
    "name": "ipython",
    "version": 3
   },
   "file_extension": ".py",
   "mimetype": "text/x-python",
   "name": "python",
   "nbconvert_exporter": "python",
   "pygments_lexer": "ipython3",
   "version": "3.7.6"
  }
 },
 "nbformat": 4,
 "nbformat_minor": 5
}
